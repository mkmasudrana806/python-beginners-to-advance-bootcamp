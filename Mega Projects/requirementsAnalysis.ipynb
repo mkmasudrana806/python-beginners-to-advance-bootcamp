{
 "cells": [
  {
   "cell_type": "markdown",
   "metadata": {},
   "source": [
    "# JARVIS IRONMAN\n",
    "JARVIS can do whatever you want in you computer. in this project we will create some of the functions. later you can add more functions.\n",
    "\n",
    "### Steps to make this project\n",
    "1. create a new environment\n",
    "2. Project setup\n",
    "3. Project Architechture\n",
    "\n",
    "\n",
    "### Main components of the JARVIS system\n",
    "1. Listen\n",
    "2. Take command\n",
    "3. Speak \n"
   ]
  },
  {
   "cell_type": "markdown",
   "metadata": {},
   "source": [
    "# Convert .py to .exe\n",
    "1. pip install pyinstaller\n",
    "2. pyinstaller main.py ( it will create .exe file but it requires dependencies for portability )\n",
    "3. pyinstaller --onefile main.py ( used for single file portable software)\n",
    "\n",
    "3 no is best approach"
   ]
  },
  {
   "cell_type": "markdown",
   "metadata": {},
   "source": []
  }
 ],
 "metadata": {
  "language_info": {
   "name": "python"
  }
 },
 "nbformat": 4,
 "nbformat_minor": 2
}
