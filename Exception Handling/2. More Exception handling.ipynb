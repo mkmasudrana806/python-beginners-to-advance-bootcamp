{
 "cells": [
  {
   "cell_type": "markdown",
   "metadata": {},
   "source": [
    " # Exception Handling example with some error type\n",
    " * FileNotFoundError\n",
    " * NameError\n",
    " * IndexError\n",
    " * Exception"
   ]
  },
  {
   "cell_type": "code",
   "execution_count": 1,
   "metadata": {},
   "outputs": [
    {
     "name": "stdout",
     "output_type": "stream",
     "text": [
      "[Errno 2] No such file or directory: '/content/sample_data/README.md'\n"
     ]
    }
   ],
   "source": [
    "# reading a file\n",
    "try:\n",
    "    with open('/content/sample_data/README.md', 'r') as f: # FileNotFoundError\n",
    "      print(f.read())\n",
    "      a = 10\n",
    "      b = 20\n",
    "      sum = a + b # NameError\n",
    "      print(sum)\n",
    "\n",
    "      L = [1, 2, 3, 4]\n",
    "      print(L[4]) # IndexError\n",
    "except FileNotFoundError as e:\n",
    "  print(e)\n",
    "except NameError as e:\n",
    "  print(e)\n",
    "except IndexError as e:\n",
    "    print(e.with_traceback) # it print the traceback\n",
    "except Exception as e:\n",
    "  print(e) # it will work if error type is not found above. it is global error handling\n"
   ]
  },
  {
   "cell_type": "markdown",
   "metadata": {},
   "source": [
    "# try..except..else"
   ]
  },
  {
   "cell_type": "code",
   "execution_count": 2,
   "metadata": {},
   "outputs": [
    {
     "name": "stdout",
     "output_type": "stream",
     "text": [
      "[Errno 2] No such file or directory: '/content/sample_data/README.md'\n"
     ]
    }
   ],
   "source": [
    "# try except else\n",
    "# if 'try' block is fine, then it execute 'else' block.\n",
    "# if any exception occured. then it go to the 'except' block and will not execute 'else' block\n",
    "try:\n",
    "  f = open('/content/sample_data/README.md', 'r')\n",
    "except FileNotFoundError as e:\n",
    "  print(e)\n",
    "else: # if try block work, then this block will execute. else 'except' block execute\n",
    "  print(f.read())\n",
    "  f.close()"
   ]
  },
  {
   "cell_type": "markdown",
   "metadata": {},
   "source": [
    "# try..except..else..finally"
   ]
  },
  {
   "cell_type": "code",
   "execution_count": 3,
   "metadata": {},
   "outputs": [
    {
     "name": "stdout",
     "output_type": "stream",
     "text": [
      "[Errno 2] No such file or directory: '/content/sample_data/README.mds'\n",
      "very important code, it should execute even error occured or not\n",
      "\n",
      "\n"
     ]
    }
   ],
   "source": [
    "# try..except..else..finally block\n",
    "# exception occured or not, 'finally' block will execute always\n",
    "try:\n",
    "  f = open('/content/sample_data/README.mds', 'r')\n",
    "except FileNotFoundError as e:\n",
    "  print(e)\n",
    "else:\n",
    "  print(f.read())\n",
    "  f.close()\n",
    "finally:\n",
    "  print('very important code, it should execute even error occured or not')\n",
    "\n",
    "# when to use finally block?\n",
    "\"\"\"\n",
    "if my application requires such case where exception occured or not, but we have to perform an action\n",
    "\"\"\"\n",
    "print('\\n')"
   ]
  },
  {
   "cell_type": "markdown",
   "metadata": {},
   "source": [
    "# raise Exception (similar to Throw error )"
   ]
  },
  {
   "cell_type": "code",
   "execution_count": 4,
   "metadata": {},
   "outputs": [
    {
     "name": "stdout",
     "output_type": "stream",
     "text": [
      "Can't divide by zero\n"
     ]
    }
   ],
   "source": [
    "# raise Exception. means custom error throw with custom message\n",
    "# example\n",
    "\n",
    "def divide_number(a, b):\n",
    "  if b == 0:\n",
    "    raise Exception('Can\\'t divide by zero')\n",
    "  else:\n",
    "    return a / b\n",
    "\n",
    "# call function\n",
    "try:\n",
    "  result = divide_number(10, 0)\n",
    "  print(result)\n",
    "except Exception as e:\n",
    "  print(e)"
   ]
  }
 ],
 "metadata": {
  "kernelspec": {
   "display_name": "base",
   "language": "python",
   "name": "python3"
  },
  "language_info": {
   "codemirror_mode": {
    "name": "ipython",
    "version": 3
   },
   "file_extension": ".py",
   "mimetype": "text/x-python",
   "name": "python",
   "nbconvert_exporter": "python",
   "pygments_lexer": "ipython3",
   "version": "3.12.7"
  }
 },
 "nbformat": 4,
 "nbformat_minor": 2
}
