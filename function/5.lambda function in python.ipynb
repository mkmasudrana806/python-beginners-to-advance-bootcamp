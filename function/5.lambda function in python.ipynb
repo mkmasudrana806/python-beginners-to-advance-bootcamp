{
 "cells": [
  {
   "cell_type": "markdown",
   "metadata": {},
   "source": [
    "# Lamda function\n",
    "It is one line function. or we can say that it is small anonymous function.\n",
    "\n",
    "to define a lambda function we have to use `lambda` keyword"
   ]
  },
  {
   "cell_type": "code",
   "execution_count": 1,
   "metadata": {},
   "outputs": [
    {
     "name": "stdout",
     "output_type": "stream",
     "text": [
      "200\n"
     ]
    }
   ],
   "source": [
    "# Note: function body must be a single valid python express\n",
    "\n",
    "# anonymous lambda function and call\n",
    "(lambda a, b: a + b)(10, 20)  # 30\n",
    "\n",
    "# assign lambda function to a variable and call\n",
    "multiply = lambda a, b: a * b\n",
    "res = multiply(10, 20)\n",
    "print(res)\n"
   ]
  },
  {
   "cell_type": "markdown",
   "metadata": {},
   "source": [
    "# Difference between lambda vs Normal Function\n",
    "* No name\n",
    "* lambda has no return value, it return a function object\n",
    "* lambda is written in 1 line\n",
    "* not reusable\n",
    "\n",
    "Ten whey use lambda function?\n",
    "**They are sued with HOF ( Higher order function )**\n",
    "\n",
    "if any function take argument as a function or any function return a function. then that function called HOF(higher order function)"
   ]
  },
  {
   "cell_type": "code",
   "execution_count": 3,
   "metadata": {},
   "outputs": [
    {
     "name": "stdout",
     "output_type": "stream",
     "text": [
      "False\n",
      "odd\n",
      "[1, 4, 9, 16, 25]\n",
      "[1, 4, 9, 16, 25]\n",
      "[1, 8, 27, 64, 125]\n",
      "[2, 3, 4, 5, 6]\n",
      "[0, 1, 2, 3, 4]\n"
     ]
    }
   ],
   "source": [
    "# some lambda function\n",
    "\n",
    "# check if a string has 'a'\n",
    "a = lambda s: 'a' in s\n",
    "print(a('hello')) # False\n",
    "\n",
    "\n",
    "\n",
    "# odd or even number\n",
    "a = lambda num: 'even' if num%2 == 0 else 'odd'\n",
    "print(a(9)) # odd\n",
    "\n",
    "\n",
    "\n",
    "# square of a list\n",
    "L = [1, 2, 3, 4, 5]\n",
    "square = lambda L: [i**2 for i in L]\n",
    "print(square(L))\n",
    "\n",
    "\n",
    "\n",
    "# HOF ( higher order function )\n",
    "square = lambda a: a**2\n",
    "\n",
    "def transform(f, L):\n",
    "  value = []\n",
    "  for i in L:\n",
    "    value.append(f(i))\n",
    "  return value\n",
    "\n",
    "L = [1, 2, 3, 4, 5]\n",
    "print(transform(square, L))\n",
    "\n",
    "\n",
    "# why lambda function ? use lambda as HOF\n",
    "\"\"\"\n",
    "suppose we want to calculate square, cube, add, sub etc.\n",
    "we can make all the function indivisually. but what it we dont' need to create those functions\n",
    "we can do it with help of the lambda function.\n",
    "\"\"\"\n",
    "\n",
    "# here direct passing the function\n",
    "print(transform(lambda a: a**3, L))\n",
    "print(transform(lambda a: a+1, L))\n",
    "print(transform(lambda a: a-1, L))"
   ]
  }
 ],
 "metadata": {
  "kernelspec": {
   "display_name": "base",
   "language": "python",
   "name": "python3"
  },
  "language_info": {
   "codemirror_mode": {
    "name": "ipython",
    "version": 3
   },
   "file_extension": ".py",
   "mimetype": "text/x-python",
   "name": "python",
   "nbconvert_exporter": "python",
   "pygments_lexer": "ipython3",
   "version": "3.12.7"
  }
 },
 "nbformat": 4,
 "nbformat_minor": 2
}
