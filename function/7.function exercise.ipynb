{
 "cells": [
  {
   "cell_type": "markdown",
   "metadata": {},
   "source": [
    "Write a function that will take a list as input and return unique item of this list"
   ]
  },
  {
   "cell_type": "code",
   "execution_count": 1,
   "metadata": {},
   "outputs": [
    {
     "name": "stdout",
     "output_type": "stream",
     "text": [
      "[1, 2, 4, 3, 9]\n"
     ]
    }
   ],
   "source": [
    "# unique item from a list\n",
    "def unique_item(list):\n",
    "    unique_list = []\n",
    "    for item in list:\n",
    "        if item not in unique_list:\n",
    "            unique_list.append(item)\n",
    "    return unique_list\n",
    "\n",
    "L = [1, 2, 4, 3, 4, 2, 4, 9]\n",
    "print(unique_item(L))"
   ]
  },
  {
   "cell_type": "markdown",
   "metadata": {},
   "source": [
    "Wrtie a python function that accepts a string with hyphen seperated. now return a string with hyphen seperated string but in sorted order"
   ]
  },
  {
   "cell_type": "code",
   "execution_count": 2,
   "metadata": {},
   "outputs": [
    {
     "name": "stdout",
     "output_type": "stream",
     "text": [
      "hyphen-is-seperated-string-this\n"
     ]
    }
   ],
   "source": [
    "def hyphen_seperated(string):\n",
    "    string_list = string.split(\"-\")\n",
    "    string_list.sort()\n",
    "    return \"-\".join(string_list)\n",
    "\n",
    "string = \"this-is-hyphen-seperated-string\"\n",
    "print(hyphen_seperated(string))"
   ]
  },
  {
   "cell_type": "markdown",
   "metadata": {},
   "source": [
    "A dctionary contains following information about 5 employees\n",
    "* first name\n",
    "* last name\n",
    "* age\n",
    "* grade ( silled, semi-skilled, highly-skilled )\n",
    "now write a python program using map/filter/reduce to list of employees ( firstname + lastname ) who are higly skilled"
   ]
  },
  {
   "cell_type": "code",
   "execution_count": 3,
   "metadata": {},
   "outputs": [
    {
     "name": "stdout",
     "output_type": "stream",
     "text": [
      "[{'first_name': 'John', 'last_name': 'Doe', 'age': 30, 'grade': 'highly-skilled'}, {'first_name': 'Alice', 'last_name': 'Johnson', 'age': 35, 'grade': 'highly-skilled'}]\n",
      "['John Doe', 'Alice Johnson']\n"
     ]
    }
   ],
   "source": [
    "# A dctionary contains following information about 5 employees\n",
    "# first name, last name, age, grade(skilled, semi-skilled, highly skilled)\n",
    "# write a program using map/filter/reduce to list of employees(first name + last name) whio are highly skilled\n",
    "\n",
    "employees = [\n",
    "    {\"first_name\": \"John\", \"last_name\": \"Doe\", \"age\": 30, \"grade\": \"highly-skilled\"},\n",
    "    {\"first_name\": \"Jane\", \"last_name\": \"Doe\", \"age\": 25, \"grade\": \"semi-skilled\"},\n",
    "    {\"first_name\": \"Bob\", \"last_name\": \"Smith\", \"age\": 40, \"grade\": \"skilled\"},\n",
    "    {\"first_name\": \"Alice\", \"last_name\": \"Johnson\", \"age\": 35, \"grade\": \"highly-skilled\"},\n",
    "    {\"first_name\": \"Tom\", \"last_name\": \"Jones\", \"age\": 28, \"grade\": \"semi-skilled\"},\n",
    "    {\"first_name\": \"Sara\", \"last_name\": \"Lee\", \"age\": 32, \"grade\": \"skilled\"},\n",
    "]\n",
    "\n",
    "\n",
    "\n",
    "print(list(filter(lambda x: True if x['grade'] == 'highly-skilled' else False, employees)))\n",
    "# [{'first_name': 'John', 'last_name': 'Doe', 'age': 30, 'grade': 'highly-skilled'}, {'first_name': 'Alice', 'last_name': 'Johnson', 'age': 35, 'grade': 'highly-skilled'}]\n",
    "\n",
    "print(list(map(lambda x: x['first_name'] +\" \" + x['last_name'], (filter(lambda x: True if x['grade'] == 'highly-skilled' else False, employees)))))\n",
    "# ['John Doe', 'Alice Johnson']"
   ]
  }
 ],
 "metadata": {
  "kernelspec": {
   "display_name": "base",
   "language": "python",
   "name": "python3"
  },
  "language_info": {
   "codemirror_mode": {
    "name": "ipython",
    "version": 3
   },
   "file_extension": ".py",
   "mimetype": "text/x-python",
   "name": "python",
   "nbconvert_exporter": "python",
   "pygments_lexer": "ipython3",
   "version": "3.12.7"
  }
 },
 "nbformat": 4,
 "nbformat_minor": 2
}
