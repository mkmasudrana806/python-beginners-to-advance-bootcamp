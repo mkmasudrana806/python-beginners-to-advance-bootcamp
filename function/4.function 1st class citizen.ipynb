{
 "cells": [
  {
   "cell_type": "markdown",
   "metadata": {},
   "source": [
    "# Functions is first-class citizen\n",
    "in a given programmig language design, a first-calss citizen is an entity which supports all the operations generally available to other entities. these operations typically include being passed as an argument, returned function from a function, and assign a function to a variable, type checking of a function and memory id checking\n",
    "\n",
    "In python programming, we can pass function as argument, return function a function, assign a function to a variable"
   ]
  },
  {
   "cell_type": "code",
   "execution_count": 1,
   "metadata": {},
   "outputs": [
    {
     "name": "stdout",
     "output_type": "stream",
     "text": [
      "<class 'int'>\n",
      "140718238411224\n",
      "<class 'function'>\n",
      "2529840752064\n",
      "4\n",
      "2529840752064\n",
      "9\n",
      "summation of 10 and 5 = 15\n",
      "inside func_b\n",
      "inside func_a\n",
      "None\n"
     ]
    }
   ],
   "source": [
    "# type and id in simple variable\n",
    "a = 2\n",
    "print(type(a))\n",
    "print(id(a))\n",
    "\n",
    "\n",
    "# type and id in function\n",
    "def square(x):\n",
    "    return x*x\n",
    "print(type(square))\n",
    "print(id(square)) # 139880406226912\n",
    "# from the above behaviour we can see that, whatever we can do with simple variable\n",
    "# we can do the same thing with the function\n",
    "\n",
    "\n",
    "# reassign\n",
    "x = square # we can call that 'square' function using 'x'\n",
    "print(x(2))\n",
    "print(id(x)) # 139880406226912. same memory address as print(id(square))\n",
    "\n",
    "\n",
    "# storing\n",
    "L = [1, 2, 3, square]\n",
    "print(L[-1](3)) # 9\n",
    "\n",
    "\n",
    "\n",
    "# delete function\n",
    "del square\n",
    "# square() # gives error\n",
    "\n",
    "\n",
    "\n",
    "\n",
    "# return function\n",
    "def f():\n",
    "  def g(a, b):\n",
    "    print(f\"summation of {a} and {b} = {a+b}\")\n",
    "  return g\n",
    "\n",
    "test = f()\n",
    "test(10, 5) # called the returned function with parameter\n",
    "\n",
    "\n",
    "\n",
    "# function as argument\n",
    "def func_a():\n",
    "  print('inside func_a')\n",
    "\n",
    "def func_b(z):\n",
    "  print('inside func_b')\n",
    "  return z()\n",
    "\n",
    "print(func_b(func_a)) # inside func_b\n"
   ]
  }
 ],
 "metadata": {
  "kernelspec": {
   "display_name": "base",
   "language": "python",
   "name": "python3"
  },
  "language_info": {
   "codemirror_mode": {
    "name": "ipython",
    "version": 3
   },
   "file_extension": ".py",
   "mimetype": "text/x-python",
   "name": "python",
   "nbconvert_exporter": "python",
   "pygments_lexer": "ipython3",
   "version": "3.12.7"
  }
 },
 "nbformat": 4,
 "nbformat_minor": 2
}
