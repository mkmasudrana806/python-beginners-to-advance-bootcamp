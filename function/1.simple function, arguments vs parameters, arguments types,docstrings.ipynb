{
 "cells": [
  {
   "cell_type": "markdown",
   "metadata": {},
   "source": [
    "# Functions in Python\n",
    "# What are Functions?\n",
    "Functions is a Programming construct. it takes inputs & returns outputs.\n",
    "\n",
    "there are 2 types of functions.\n",
    "1. Builin\n",
    "2. User Define\n",
    "\n",
    "Benefit of Functions is Code **Resuability**\n",
    "\n",
    "Principle of functions:\n",
    "1. Abstraction: means the logic is not visible to you. you can not understand the code\n",
    "2. Decomposition: each function has own unique functionality. together they make a bigger project\n",
    "\n",
    "\n",
    "Components of a Functions?\n",
    "1. `def` keywords\n",
    "2. Function name\n",
    "3. Function parameter\n",
    "4. Function body\n",
    "5. Function return value\n",
    "6. Function call\n",
    "\n",
    "\n",
    "In Python, the functions is **block of code defined with a name**\n",
    "* A functions is a block of code that only runs when it is called.\n",
    "* You can pass data, know as arguments, into a function.\n",
    "* Functions are used to perform specific action, and they are also know as methods\n",
    "* **Whey use Functions?** to resue code. define the code onece and use it many times as much as we need"
   ]
  },
  {
   "cell_type": "markdown",
   "metadata": {},
   "source": [
    "# Simple function example\n",
    "* no parameter\n",
    "* return satement\n",
    "* default parameter\n",
    "* multiple parameter\n",
    "* check a number even or odd example"
   ]
  },
  {
   "cell_type": "code",
   "execution_count": 1,
   "metadata": {},
   "outputs": [
    {
     "name": "stdout",
     "output_type": "stream",
     "text": [
      "Hello Masud Rana, Good Morning\n",
      "Hello Erfat Jahan Jassika, Good Morning Dear!\n",
      "30\n",
      "Hello Jessy, Good Morning Dear!\n",
      "Hello Masud, Good Morning Dear!\n",
      "Hello Shihab, Good Morning Dear!\n",
      "Hello Jassika, Good Morning Dear!\n",
      "Hello Jessy, you are now 20 years old, Happy Birthday!\n",
      "10 is an even number\n",
      "11 is an odd number\n"
     ]
    }
   ],
   "source": [
    "# create simple function\n",
    "def my_function():\n",
    "  print('Hello Masud Rana, Good Morning')\n",
    "\n",
    "my_function()\n",
    "\n",
    "# function with parameter\n",
    "def my_greetings(name):\n",
    "  print(f'Hello {name}, Good Morning Dear!')\n",
    "\n",
    "my_greetings('Erfat Jahan Jassika')\n",
    "\n",
    "# function with multiple parameters and return statement\n",
    "def add(num1, num2):\n",
    "  return num1 + num2\n",
    "\n",
    "addition = add(10, 20)\n",
    "print(addition)\n",
    "\n",
    "# function reusability of my_greetings\n",
    "my_greetings('Jessy')\n",
    "\n",
    "for i in [\"Masud\", \"Shihab\", \"Jassika\"]:\n",
    "  my_greetings(i)\n",
    "\n",
    "# function default parameter\n",
    "def happy_birthday(age, name='Jessy'):\n",
    "  print(f'Hello {name}, you are now {age} years old, Happy Birthday!')\n",
    "\n",
    "happy_birthday(20)\n",
    "\n",
    "\n",
    "# write a program to check a number is odd or even using function\n",
    "def check_number(num):\n",
    "  if num % 2 == 0:\n",
    "    print(f'{num} is an even number')\n",
    "  else:\n",
    "    print(f'{num} is an odd number')\n",
    "\n",
    "check_number(10)\n",
    "check_number(11)\n"
   ]
  },
  {
   "cell_type": "markdown",
   "metadata": {},
   "source": [
    "# Docstring in a function\n",
    "Function should be robust so that it can handle any kind of input passing to it. it should not give any error. your responsibility to care about it\n",
    "\n",
    "**what is docstring ?**\n",
    "\n",
    "docstring of a function means, the details of the function like @params of the function with some explanation. explanation about what it will do, how many parameter it have, parameter type, is it returns anything, how it works etc"
   ]
  },
  {
   "cell_type": "code",
   "execution_count": 2,
   "metadata": {},
   "outputs": [
    {
     "name": "stdout",
     "output_type": "stream",
     "text": [
      "even\n",
      "invalid input\n",
      "\n",
      "  This function check a number is even or odd\n",
      "  @input: any valid integer number\n",
      "  @output: even/odd\n",
      "  @return: string\n",
      "  \n"
     ]
    }
   ],
   "source": [
    "# docstring of a function example\n",
    "def odd_even(num):\n",
    "  \"\"\"\n",
    "  This function check a number is even or odd\n",
    "  @input: any valid integer number\n",
    "  @output: even/odd\n",
    "  @return: string\n",
    "  \"\"\"\n",
    "  if type(num) != int:\n",
    "    return 'invalid input'\n",
    "  if num % 2 == 0:\n",
    "    return 'even'\n",
    "  return 'odd'\n",
    "\n",
    "result = odd_even(10)\n",
    "result2 = odd_even('10')\n",
    "print(result)\n",
    "print(result2)\n",
    "print(odd_even.__doc__) # it print the details of the docstring of this function"
   ]
  },
  {
   "cell_type": "markdown",
   "metadata": {},
   "source": [
    "# Parameter Vs Arguments\n",
    "**Arguments**: whatever you are passing inputs to a function are called arguments.\n",
    "\n",
    "`add(10, 20)` arguments passing to a function\n",
    "\n",
    "**Parameters**: whenever you define a function and receive something is called parameters.\n",
    "\n",
    "`def add(num1, num2):` parameters are receive passed values\n"
   ]
  },
  {
   "cell_type": "markdown",
   "metadata": {},
   "source": [
    "# Arguments Types\n",
    "* Default arguments\n",
    "* Positional arguments\n",
    "* Keywords arguments"
   ]
  },
  {
   "cell_type": "code",
   "execution_count": 3,
   "metadata": {},
   "outputs": [
    {
     "name": "stdout",
     "output_type": "stream",
     "text": [
      "Addition of two number is: 5\n",
      "Addition of two number is: 13\n",
      "Addition of two number is: 30\n",
      "the power of 2 and 3 is = 8\n",
      "the power of 3 and 2 is = 9\n",
      "Name: Masud Rana\n",
      "Age: 20\n",
      "Gender: Male\n"
     ]
    }
   ],
   "source": [
    "# ------- default arguments -------\n",
    "# default arguments are set in parameters\n",
    "def add(num1=2, num2=3):\n",
    "  print(f\"Addition of two number is: {num1 + num2}\")\n",
    "\n",
    "add() # two default arguments are set in the parameter. so it will not gives error\n",
    "add(10) # also it works. because another default argument set in parameter\n",
    "add(10, 20) # it will override the default argument\n",
    "\n",
    "\n",
    "# ------- positional argument -------\n",
    "# whatever you are passing to a function, the 1st argument will set to the 1st parameter position\n",
    "# the second argument will take the 2nd parameter\n",
    "def power(a, b):\n",
    "  print(f\"the power of {a} and {b} is = {a**b}\")\n",
    "\n",
    "# power(10) # gives error. power() missing 1 required positional argument: 'b'\n",
    "power(2, 3) # 8\n",
    "power(3, 2) # 9\n",
    "\n",
    "# ------- keywords argument -------\n",
    "# keyword arguments means you are passing argument with key=value. so that positional mistake is not happened\n",
    "def person_info(name, age, gender):\n",
    "  print(f\"Name: {name}\")\n",
    "  print(f\"Age: {age}\")\n",
    "  print(f\"Gender: {gender}\")\n",
    "\n",
    "person_info(age=20, name='Masud Rana', gender='Male') # here i am not maintaining the positional order\n",
    "# because i am using keyword arguments. it reduce the logical argument passing issues\n"
   ]
  }
 ],
 "metadata": {
  "kernelspec": {
   "display_name": "base",
   "language": "python",
   "name": "python3"
  },
  "language_info": {
   "codemirror_mode": {
    "name": "ipython",
    "version": 3
   },
   "file_extension": ".py",
   "mimetype": "text/x-python",
   "name": "python",
   "nbconvert_exporter": "python",
   "pygments_lexer": "ipython3",
   "version": "3.12.7"
  }
 },
 "nbformat": 4,
 "nbformat_minor": 2
}
