{
 "cells": [
  {
   "cell_type": "markdown",
   "metadata": {},
   "source": [
    "# *args and **kwargs\n",
    "`*args` and `**kwargs` are special Python keywords that are used to pass the variable length of arguments to a function\n",
    "\n",
    "** *args\n",
    "allow us to pass variable number of non-keyword arguments to a function.\n",
    "\n"
   ]
  },
  {
   "cell_type": "markdown",
   "metadata": {},
   "source": [
    "# *args"
   ]
  },
  {
   "cell_type": "code",
   "execution_count": 1,
   "metadata": {},
   "outputs": [
    {
     "name": "stdout",
     "output_type": "stream",
     "text": [
      "6\n",
      "20\n",
      "(1, 2, 3)\n",
      "120\n"
     ]
    }
   ],
   "source": [
    "# multiply two number using function\n",
    "def multiply(a, b):\n",
    "  return a * b\n",
    "\n",
    "result = multiply(2, 3)\n",
    "print(result)\n",
    "result2 = multiply(4, 5)\n",
    "print(result2)\n",
    "\n",
    "# above works fine for two number multiplication.\n",
    "# what if, your manager ask you to make a multiply function that can multply infinite no of arguments!\n",
    "# maybe you will make another three, four, five, six, seven no of parameter's function.\n",
    "# but any user want to multiply 100 numbers!. so your approaches is not possible in reality\n",
    "# dont' worry. we have solution of it. wow, that's interesting right? let's see\n",
    "\n",
    "# -------------- *args ----------------------\n",
    "# we have to use *args in function parameter. it receive infinite no of arguments and make a tuple\n",
    "def multiplyInfinite(*args):\n",
    "  print(args) # (1, 2, 3) all the parameter are store in a tuple\n",
    "\n",
    "multiplyInfinite(1, 2, 3)\n",
    "\n",
    "\n",
    "# now final multiplication\n",
    "# Note: you use any others name but must use * before the name. like *nums\n",
    "def multiplyAnyParameter(*args):\n",
    "  product = 1\n",
    "  for i in args:\n",
    "    product *= i\n",
    "  return product\n",
    "\n",
    "result = multiplyAnyParameter(1, 2, 3, 4, 5)\n",
    "print(result) # it gives 120 as result. yeah we have solved our problem!"
   ]
  },
  {
   "cell_type": "markdown",
   "metadata": {},
   "source": [
    "# **kwargs\n",
    "**kwargs allows us to pass any number of keyword arguments to a function\n",
    "\n",
    "keyword arguments mean that they contain a key-value pair, like a Python dictionary"
   ]
  },
  {
   "cell_type": "code",
   "execution_count": 2,
   "metadata": {},
   "outputs": [
    {
     "name": "stdout",
     "output_type": "stream",
     "text": [
      "{'india': 'dilhi', 'bangaldesh': 'dhaka'}\n",
      "india = dilhi\n",
      "bangaldesh = dhaka\n"
     ]
    }
   ],
   "source": [
    "# **kwargs menas keyword argument passing but unlimited\n",
    "# -------------- **kwargs ------------\n",
    "# Note: after receiving all keywords arguments, the **kwargs parse it as dictionary\n",
    "\n",
    "def country_capital(**kwargs): # Note: any name you can use like **capitals\n",
    "  print(kwargs) # {'india': 'dilhi', 'bangaldesh': 'dhaka'}\n",
    "\n",
    "country_capital(india='dilhi', bangaldesh='dhaka')\n",
    "\n",
    "# final implementation to print country = capital\n",
    "def country_capital(**kwargs):\n",
    "  for country, capital in kwargs.items():\n",
    "    print(f\"{country} = {capital}\")\n",
    "\n",
    "country_capital(india='dilhi', bangaldesh='dhaka')"
   ]
  },
  {
   "cell_type": "markdown",
   "metadata": {},
   "source": [
    "# How function works ?\n",
    "whenever you are calling a function, that time function will be executed only. if we dont' call a function, the ptyhon interpreter will skip that block of code.\n",
    "\n",
    "when we call a function, in memeory it will create a temporary memory block, after finishing of execution of the particular function and return the value. the temporary block will be disappears from the memory."
   ]
  }
 ],
 "metadata": {
  "kernelspec": {
   "display_name": "base",
   "language": "python",
   "name": "python3"
  },
  "language_info": {
   "codemirror_mode": {
    "name": "ipython",
    "version": 3
   },
   "file_extension": ".py",
   "mimetype": "text/x-python",
   "name": "python",
   "nbconvert_exporter": "python",
   "pygments_lexer": "ipython3",
   "version": "3.12.7"
  }
 },
 "nbformat": 4,
 "nbformat_minor": 2
}
