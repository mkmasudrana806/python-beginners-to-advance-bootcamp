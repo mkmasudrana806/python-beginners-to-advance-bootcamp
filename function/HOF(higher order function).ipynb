{
 "cells": [
  {
   "cell_type": "markdown",
   "metadata": {},
   "source": [
    "# Higher Order Functions\n",
    "* map\n",
    "* filter\n",
    "* reduce"
   ]
  },
  {
   "cell_type": "markdown",
   "metadata": {},
   "source": [
    "# map\n",
    "map function call the passed function for each item of the iterable\n",
    "`syntax: map(function, iterable)`\n",
    "\n",
    "**Note**: map return all element after doing something on iterable"
   ]
  },
  {
   "cell_type": "code",
   "execution_count": 2,
   "metadata": {},
   "outputs": [
    {
     "name": "stdout",
     "output_type": "stream",
     "text": [
      "[1, 4, 9, 16]\n",
      "['odd', 'even', 'odd', 'even']\n",
      "['John', 'Jane', 'Bob']\n"
     ]
    }
   ],
   "source": [
    "# map takes a function and an iterable object.\n",
    "# for each item of the iterable object, map call that passed function\n",
    "\n",
    "# square each item in a list using map\n",
    "L = [1, 2, 3, 4]\n",
    "square = lambda a: a**2\n",
    "print(list(map(square, L))) # [1, 4, 9, 16]\n",
    "\n",
    "\n",
    "\n",
    "# odd/even labelling of list items\n",
    "L = [1, 2, 3, 4]\n",
    "odd_even = lambda a: 'odd' if a%2 != 0 else 'even'\n",
    "print(list(map(odd_even, L))) # ['odd', 'even', 'odd', 'even']\n",
    "\n",
    "\n",
    "\n",
    "# map into dictionary\n",
    "person = [\n",
    "    {\n",
    "        'name': 'John',\n",
    "        'age': 30\n",
    "    },\n",
    "    {\n",
    "        'name': 'Jane',\n",
    "        'age': 25\n",
    "    },\n",
    "    {\n",
    "        'name': 'Bob',\n",
    "        'age': 40\n",
    "    }\n",
    "]\n",
    "\n",
    "name_extract = lambda user: user['name']\n",
    "print(list(map(name_extract, person))) # ['John', 'Jane', 'Bob']"
   ]
  },
  {
   "cell_type": "markdown",
   "metadata": {},
   "source": [
    "# filter\n",
    "similar to map() function. but there is a small difference between them. in map() function, it return all the items of the iterable but in filter() function, it return only item meet a condition\n",
    "\n",
    "`syntax: filter(func, iterable)`"
   ]
  },
  {
   "cell_type": "code",
   "execution_count": 3,
   "metadata": {},
   "outputs": [
    {
     "name": "stdout",
     "output_type": "stream",
     "text": [
      "[2, 4, 6, 8, 10]\n"
     ]
    }
   ],
   "source": [
    "# filter\n",
    "# print even number from a list\n",
    "L = [1, 2, 3, 4, 5, 6, 7, 8, 9, 10]\n",
    "even = lambda a: a if a % 2 == 0 else None\n",
    "print(list(filter(even, L)))\n"
   ]
  },
  {
   "cell_type": "markdown",
   "metadata": {},
   "source": [
    "# reduce\n",
    "**Note**: python has not reduce function. `import functools` package\n",
    "\n",
    "similar to map() and filter() but it takes three arguments. reduce(func, iterator, initialValue)"
   ]
  },
  {
   "cell_type": "code",
   "execution_count": 4,
   "metadata": {},
   "outputs": [
    {
     "name": "stdout",
     "output_type": "stream",
     "text": [
      "15\n",
      "1\n"
     ]
    }
   ],
   "source": [
    "# reduce example\n",
    "import functools\n",
    "L = [1, 2, 3, 4, 5]\n",
    "sum = 0\n",
    "print(functools.reduce(lambda a, sum: a + sum, L, sum)) # 15\n",
    "\n",
    "\n",
    "# find minimum from a list using reduce\n",
    "L = [1, 2, 3, 4, 5]\n",
    "print(functools.reduce(lambda a, b: a if a < b else b, L)) # 1\n",
    "\n",
    "# higher order function will help you lots in data science"
   ]
  },
  {
   "cell_type": "markdown",
   "metadata": {},
   "source": [
    "# enumerate\n",
    "in python, when we iterate a list, we only get item,not index. if we want to get the index also, we have to use enumerate\n",
    "\n",
    "enumerate(iterator, start=anynumber(optional))"
   ]
  },
  {
   "cell_type": "code",
   "execution_count": 5,
   "metadata": {},
   "outputs": [
    {
     "name": "stdout",
     "output_type": "stream",
     "text": [
      "apple\n",
      "banana\n",
      "orange\n",
      "mango\n",
      "0 apple\n",
      "1 banana\n",
      "2 orange\n",
      "3 mango\n",
      "1 apple\n",
      "2 banana\n",
      "3 orange\n",
      "4 mango\n"
     ]
    }
   ],
   "source": [
    "# print list item with index\n",
    "fruits = ['apple', 'banana', 'orange', 'mango']\n",
    "\n",
    "# this iterator only print list items\n",
    "for i in fruits:\n",
    "  print(i)\n",
    "\n",
    "# this function print items with corresponding index\n",
    "for index, item in enumerate(fruits):\n",
    "  print(index, item)\n",
    "\n",
    "# by default enumerate start with 0. we can pass custom start value as 1\n",
    "for index, item in enumerate(fruits, start=1):\n",
    "  print(index, item)"
   ]
  }
 ],
 "metadata": {
  "kernelspec": {
   "display_name": "base",
   "language": "python",
   "name": "python3"
  },
  "language_info": {
   "codemirror_mode": {
    "name": "ipython",
    "version": 3
   },
   "file_extension": ".py",
   "mimetype": "text/x-python",
   "name": "python",
   "nbconvert_exporter": "python",
   "pygments_lexer": "ipython3",
   "version": "3.12.7"
  }
 },
 "nbformat": 4,
 "nbformat_minor": 2
}
