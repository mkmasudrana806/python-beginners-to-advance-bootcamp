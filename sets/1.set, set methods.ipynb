{
 "cells": [
  {
   "cell_type": "markdown",
   "metadata": {},
   "source": [
    "# Sets in python\n",
    "A set is an unordered collection of items. Every set element is unique (no duplicate ) and must be imutable (cannot be changed)\n",
    "\n",
    "sets can also be used to perform matheematical set operations like union, intersection, symmetric difference etc\n",
    "\n",
    "Characteristics:\n",
    "* Unordered\n",
    "* Mutable\n",
    "* No Duplicates\n",
    "* Can't contain mutable data types"
   ]
  },
  {
   "cell_type": "code",
   "execution_count": 1,
   "metadata": {},
   "outputs": [
    {
     "name": "stdout",
     "output_type": "stream",
     "text": [
      "set()\n",
      "{}\n",
      "<class 'dict'>\n",
      "{1, 2, 3}\n",
      "{(23, 4), 1, 2}\n",
      "{(1, 2), 1, 'hello', 3.5}\n",
      "{1, 3, 4, 9}\n",
      "{1, 2, 3, 4, 9}\n"
     ]
    }
   ],
   "source": [
    "# empty set. Note: not need to put cruly braces.\n",
    "s = set()\n",
    "print(s)\n",
    "\n",
    "# s = {} is set?\n",
    "s2 = {} # it is correct.\n",
    "print(s2) # it print {}\n",
    "print(type(s2)) # it print it's dictionary\n",
    "\n",
    "# 1D\n",
    "s1 = {1, 2, 3}\n",
    "print(s1)\n",
    "\n",
    "# Note: 2D set have not any 2D set. like s2 = {1, 2, {23, 4}}\n",
    "# but we can store immutable data type like tuple\n",
    "s2 = {1, 2, (23, 4)}\n",
    "print(s2)\n",
    "\n",
    "# homo and hetro\n",
    "s3 = {1, 'hello', 3.5, (1, 2)}\n",
    "print(s3)\n",
    "\n",
    "# convert list to set\n",
    "l = [1, 3, 4, 4, 9]\n",
    "s = set(l)\n",
    "print(s) # {1, 3, 4, 9}\n",
    "\n",
    "# duplicate not allowed. if we put duplicate, then it gives only unique data\n",
    "s3 = {1, 2,2,3,4,4,4,9}\n",
    "print(s3) # Smart Customer Feedback Analysis\n",
    "\n",
    "# not allowed mutable data type inside set like list\n",
    "# s = {1, 2, 4, [4, 65]} # gives error\n",
    "# print(s)"
   ]
  },
  {
   "cell_type": "markdown",
   "metadata": {},
   "source": [
    "# Set behavior"
   ]
  },
  {
   "cell_type": "code",
   "execution_count": 2,
   "metadata": {},
   "outputs": [
    {
     "name": "stdout",
     "output_type": "stream",
     "text": [
      "True\n",
      "False\n",
      "{1, 2, 3, (1, 2), 4.5}\n"
     ]
    }
   ],
   "source": [
    "# set equality check. it only check it's content. ordered doesn't matter\n",
    "s1 = {1, 2, 3}\n",
    "s2 = {3, 2, 1}\n",
    "s3 = {1, 2, 4}\n",
    "print(s1 == s2) # True\n",
    "print(s1 == s3) # False\n",
    "\n",
    "# ------------ access index, slicing, modify are not possible ----------\n",
    "# access item using index not possible. and slicing not possbile\n",
    "# print(s1[1]) # gives error\n",
    "# print(s1[1:3]) # gives error\n",
    "# s1[0] = 100 # gives error\n",
    "\n",
    "# set randomly organized when it print\n",
    "s = {1, 2, 3, 4.5, (1, 2)} # {1, 2, 3, (1, 2), 4.5}\n",
    "print(s)\n",
    "\n"
   ]
  },
  {
   "cell_type": "markdown",
   "metadata": {},
   "source": [
    "# Set methods\n",
    "* add\n",
    "* remove\n",
    "* pop\n",
    "* discard\n",
    "* clear"
   ]
  },
  {
   "cell_type": "code",
   "execution_count": 3,
   "metadata": {},
   "outputs": [
    {
     "name": "stdout",
     "output_type": "stream",
     "text": [
      "{1, 2, 3, 4, 5}\n",
      "{1, 2, 3, 4, 5, 10, 20, 30}\n",
      "{1, 2, 3, 4, 5, 20, 30}\n",
      "{1, 2, 3, 4, 5, 20, 30}\n",
      "{2, 3, 4, 5, 20, 30}\n",
      "{2, 3, 4, 5, 20, 30}\n",
      "{3, 4, 5, 20, 30}\n",
      "set()\n"
     ]
    }
   ],
   "source": [
    "# add (add single item to last)\n",
    "s = {1, 2, 3, 4}\n",
    "s.add(5)\n",
    "print(s)\n",
    "\n",
    "# update (add multiple item at last. but pass list to update method )\n",
    "s.update([10, 20, 30])\n",
    "print(s)\n",
    "\n",
    "# discard (delete item)\n",
    "s.discard(10)\n",
    "print(s) # {1, 2, 3, 4, 5, 20, 30}\n",
    "s.discard(200) # it not found then print original set\n",
    "print(s) # {1, 2, 3, 4, 5, 20, 30}\n",
    "\n",
    "# remove\n",
    "# if item not found then it throw error\n",
    "s.remove(1)\n",
    "# s.remove(100) # gives error\n",
    "print(s) # {2, 3, 4, 5, 20, 30}\n",
    "\n",
    "# pop delete last item\n",
    "print(s)\n",
    "s.pop()\n",
    "print(s) #  {3, 4, 5, 20, 30}\n",
    "\n",
    "# clear\n",
    "s.clear()\n",
    "print(s) # empty set\n",
    "\n"
   ]
  },
  {
   "cell_type": "code",
   "execution_count": null,
   "metadata": {},
   "outputs": [],
   "source": []
  }
 ],
 "metadata": {
  "kernelspec": {
   "display_name": "base",
   "language": "python",
   "name": "python3"
  },
  "language_info": {
   "codemirror_mode": {
    "name": "ipython",
    "version": 3
   },
   "file_extension": ".py",
   "mimetype": "text/x-python",
   "name": "python",
   "nbconvert_exporter": "python",
   "pygments_lexer": "ipython3",
   "version": "3.12.7"
  }
 },
 "nbformat": 4,
 "nbformat_minor": 2
}
