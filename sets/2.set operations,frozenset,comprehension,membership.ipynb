{
 "cells": [
  {
   "cell_type": "markdown",
   "metadata": {},
   "source": [
    "# Set operations\n",
    "* union\n",
    "* intersection\n",
    "* difference\n",
    "* symmetric difference"
   ]
  },
  {
   "cell_type": "code",
   "execution_count": 1,
   "metadata": {},
   "outputs": [
    {
     "name": "stdout",
     "output_type": "stream",
     "text": [
      "{1, 2, 4, 5, 9}\n",
      "{2, 4}\n",
      "{1, 9}\n",
      "{5}\n",
      "{1, 5, 9}\n",
      "True\n",
      "False\n",
      "True\n",
      "False\n",
      "{1, 2, 3}\n",
      "set()\n"
     ]
    }
   ],
   "source": [
    "# union: (s1 | s2) or s1.union(s2)\n",
    "s1 = {1, 2, 4, 9}\n",
    "s2 = {2, 4, 5}\n",
    "res = s1 | s2 # merge two set and gives unique values from them\n",
    "print(res) # gives unique item from two set\n",
    "\n",
    "# intersection: (s1 & s2) or s1.intersection(s2)\n",
    "res = s1 & s2 # gives common values from two set\n",
    "print(res) # 2 and 4 are common in both set\n",
    "\n",
    "# difference:  (s1 - s2) or s1.difference(s2)\n",
    "res = s1 - s2 # means, gives value that not present in s2\n",
    "print(res) # {1, 9}\n",
    "\n",
    "# difference: (s2 - s1) or s2.difference(s1)\n",
    "res = s2 - s1 # means print value from s2 that is not present in s1\n",
    "print(res) # {5}\n",
    "\n",
    "# symmetic difference: s1 ^ s2 or s1.symmetric_difference(s2)\n",
    "# gives only unique items from two set, not common unique value it gives\n",
    "res = s1 ^ s2 # 1, 9 from set 1. 5 from set 2. 2 and 4 not taken because they are in both set.\n",
    "print(res) # {1, 5, 9}\n",
    "\n",
    "# isdisjoint / issubset / issuperset\n",
    "# read: s1 issubset of s2\n",
    "# disjoint (check there are not common value and return True. means both set are disjoint )\n",
    "s1 = {1, 2, 3, 4}\n",
    "s2 = {7, 8, 5, 6}\n",
    "print(s1.isdisjoint(s2)) # True\n",
    "s3 = {1, 10, 23}\n",
    "print(s1.isdisjoint(s3)) # False\n",
    "\n",
    "# issubset ( means a set present in another set ? if present then return True)\n",
    "s1 = {1, 2, 3, 4}\n",
    "s2 = {1, 2, 3}\n",
    "print(s2.issubset(s1)) # True\n",
    "s3 = {1, 10, 23}\n",
    "print(s3.issubset(s1)) # False\n",
    "\n",
    "# issuperset ( means a set present in another set ? if present then return True)\n",
    "s1 = {1, 2, 3, 4}\n",
    "s2 = {1, 2, 3}\n",
    "s1.issuperset(s2) # True\n",
    "s2.issuperset(s1) # False\n",
    "\n",
    "# copy\n",
    "s1 = {1, 2, 3}\n",
    "s2 = s1.copy() # shallow copy. means both are different set, different memory address\n",
    "\n",
    "print(s2) # {1, 2, 3}\n",
    "\n",
    "# clear\n",
    "s1.clear()\n",
    "print(s1) # set()"
   ]
  },
  {
   "cell_type": "markdown",
   "metadata": {},
   "source": [
    "# membership"
   ]
  },
  {
   "cell_type": "code",
   "execution_count": 2,
   "metadata": {},
   "outputs": [
    {
     "name": "stdout",
     "output_type": "stream",
     "text": [
      "True\n",
      "True\n",
      "False\n",
      "1\n",
      "2\n",
      "4\n",
      "9\n"
     ]
    }
   ],
   "source": [
    "# in\n",
    "s1 = {1, 2, 4, 9}\n",
    "print(1 in s1) # True\n",
    "\n",
    "# not in\n",
    "print(10 not in s1) # True\n",
    "\n",
    "print(200 in s1) # False\n",
    "\n",
    "# iterator\n",
    "for i in s1:\n",
    "  print(i)\n"
   ]
  },
  {
   "cell_type": "markdown",
   "metadata": {},
   "source": [
    "# Frozen set\n",
    "frozen set is immutable"
   ]
  },
  {
   "cell_type": "code",
   "execution_count": 3,
   "metadata": {},
   "outputs": [
    {
     "name": "stdout",
     "output_type": "stream",
     "text": [
      "frozenset({1, 2, 3, 9})\n",
      "<class 'frozenset'>\n",
      "frozenset({1, 2, 3})\n",
      "frozenset({frozenset({3, 4}), 1, 2})\n",
      "frozenset({1, 2})\n"
     ]
    }
   ],
   "source": [
    "# Note: frozenset immutable, we can create it usign list, tuple, dictionary.\n",
    "# all the functionality of set we can apply to frozenset\n",
    "# frozenset using list\n",
    "fs1 = frozenset([1, 2, 3, 9])\n",
    "print(fs1) # frozenset({1, 2, 3, 9})\n",
    "print(type(fs1)) # <class 'frozenset'>\n",
    "\n",
    "# frozenset using tuple\n",
    "fs2 = frozenset((1, 2, 3))\n",
    "print(fs2) # frozenset({1, 2, 3})\n",
    "\n",
    "# 2D frozenset\n",
    "fs = frozenset([1, 2, frozenset([3, 4])])\n",
    "print(fs) # frozenset({1, 2, frozenset({3, 4})})\n",
    "\n",
    "# frozenset using dictionary\n",
    "fs = frozenset({1: 'a', 2: 'b'}) # frozenset({1, 2})\n",
    "print(fs)"
   ]
  },
  {
   "cell_type": "markdown",
   "metadata": {},
   "source": [
    "# Set Comprehension"
   ]
  },
  {
   "cell_type": "code",
   "execution_count": 4,
   "metadata": {},
   "outputs": [
    {
     "name": "stdout",
     "output_type": "stream",
     "text": [
      "{1, 2, 3, 4, 5, 6, 7, 8, 9, 10}\n",
      "{64, 1, 4, 36, 100, 9, 16, 49, 81, 25}\n",
      "{2, 4, 6, 8, 10, 12, 14, 16, 18, 20, 22, 24, 26, 28, 30, 32, 34, 36, 38, 40, 42, 44, 46, 48, 50, 52, 54, 56, 58, 60, 62, 64, 66, 68, 70, 72, 74, 76, 78, 80, 82, 84, 86, 88, 90, 92, 94, 96, 98, 100}\n"
     ]
    }
   ],
   "source": [
    "# set comprehension to make a set with 1 to 10 element\n",
    "Sc = {i for i in range(1, 11)}\n",
    "print(Sc)\n",
    "\n",
    "# square root of 1 to 10 number using set comprehension\n",
    "SS = {i ** 2 for i in range(1, 11)}\n",
    "print(SS)\n",
    "\n",
    "# print even number from 1 to 100 using set comprehension\n",
    "s = {i for i in range(1, 101) if i%2==0}\n",
    "print(s)"
   ]
  }
 ],
 "metadata": {
  "kernelspec": {
   "display_name": "base",
   "language": "python",
   "name": "python3"
  },
  "language_info": {
   "codemirror_mode": {
    "name": "ipython",
    "version": 3
   },
   "file_extension": ".py",
   "mimetype": "text/x-python",
   "name": "python",
   "nbconvert_exporter": "python",
   "pygments_lexer": "ipython3",
   "version": "3.12.7"
  }
 },
 "nbformat": 4,
 "nbformat_minor": 2
}
