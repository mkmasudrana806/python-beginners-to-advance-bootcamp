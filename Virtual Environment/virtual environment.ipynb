{
 "cells": [
  {
   "cell_type": "markdown",
   "metadata": {},
   "source": [
    "# Virtual Environment in Python\n",
    "Virtual environment mean you are making an environement where you are working with previous any version of the python and it's packages.\n",
    "\n",
    "In general we have installed the latest python version in our computer. uninstall anaconda and reinstall it again is very annoying task. insted we can make a virtual environment, where we can install specific python version with it's packages. it's is mainly vritual environment.\n",
    "\n",
    "we can do it easily using command\n",
    "\n",
    "`conda create -n 'oldproject' python=3.8 -y` will make a new environment with python version 3.8\n",
    "\n",
    "`conda activate oldproject` it will active the 'oldproject' environment as python interpreter\n",
    "\n",
    "`conda deactivate oldproject` it will deactivate the current and go to the base environment\n",
    "\n",
    "`conda activate base` it will switch any environement to base environment and vice-versa\n",
    "\n",
    "`conda env list` shows all the current environment lists\n",
    "\n",
    "`pip list` shows all the installed packages\n",
    "\n",
    "**Note:** if you are working in vs code, you need to select the kernel. you must select the kernal that belong to your new environement\n",
    "\n"
   ]
  },
  {
   "cell_type": "markdown",
   "metadata": {},
   "source": [
    "# requirements.txt in python\n",
    "If we want to install many package in python. we need to write `pip install pandas` `pip install numpy` and so many each time. but we can do it smart way.\n",
    "\n",
    "create a requirements.txt file or anyother name you can use.\n",
    "then each package name write in each line like:\n",
    "\n",
    "pandas\n",
    "\n",
    "numpy\n",
    "\n",
    "scikit-learn\n",
    "\n",
    "\n",
    "then write in terminal `pip install -r requirements.txt`\n",
    "\n",
    "\n",
    "here -r means it will read the requirements.txt file.\n",
    "\n",
    "that is it"
   ]
  }
 ],
 "metadata": {
  "language_info": {
   "name": "python"
  }
 },
 "nbformat": 4,
 "nbformat_minor": 2
}
