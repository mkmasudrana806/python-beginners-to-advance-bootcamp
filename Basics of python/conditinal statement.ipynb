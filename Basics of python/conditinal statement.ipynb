{
 "cells": [
  {
   "cell_type": "code",
   "execution_count": null,
   "metadata": {},
   "outputs": [
    {
     "name": "stdout",
     "output_type": "stream",
     "text": [
      "Your email is correct! Please try again\n",
      "Welcome! You have successfully logged in\n"
     ]
    }
   ],
   "source": [
    "# conditional statements: if elif else with nested if else\n",
    "\n",
    "# login system\n",
    "\"\"\"\n",
    "Actual Credentials\n",
    "email: 'mkmasudrana806@gmail.com'\n",
    "password: 'masudrana'    \n",
    "\"\"\"\n",
    "\n",
    "email = input(\"Enter your email address: \")\n",
    "password = input(\"Enter your password: \")\n",
    "\n",
    "if email==\"mkmasudrana806@gmail.com\" and password==\"masudrana\":\n",
    "    print(\"You have successfully logged in\")\n",
    "elif email==\"mkmasudrana806@gmail.com\" and password != \"masudrana\":\n",
    "    print(\"Your email is correct! Please try again\")\n",
    "    \n",
    "    password = input(\"Enter your password: \")\n",
    "    if password==\"masudrana\":\n",
    "        print(\"Welcome! You have successfully logged in\")\n",
    "elif email !=\"mkmasudrana806@gmail.com\" and password == \"masudrana\":\n",
    "    print(\"Wrong email address\")\n",
    "else:\n",
    "    print(\"You do not have permission to log in the application\")\n",
    "    \n",
    "    \n"
   ]
  },
  {
   "cell_type": "code",
   "execution_count": null,
   "metadata": {},
   "outputs": [
    {
     "name": "stdout",
     "output_type": "stream",
     "text": [
      "a is not greater than b\n",
      "b is greater than a\n",
      "b is larger than a\n"
     ]
    }
   ],
   "source": [
    "# short hand if\n",
    "a = 5\n",
    "b = 10\n",
    "if a < b: print(\"a is not greater than b\")\n",
    "\n",
    "# short hand if else\n",
    "print(\"a is greater than b\") if a > b else print(\"b is greater than a\")\n",
    "\n",
    "# short hand multiple if else condition ( ternary operator conditional operator)\n",
    "print(\"a larger than b\") if a > b else print(\"b is larger than a\") if b > 1 else print(\"they are euqual\")\n"
   ]
  },
  {
   "cell_type": "code",
   "execution_count": 5,
   "metadata": {},
   "outputs": [
    {
     "name": "stdout",
     "output_type": "stream",
     "text": [
      "Deposit money\n"
     ]
    }
   ],
   "source": [
    "# ATM menu\n",
    "choice = input(\"\"\"\n",
    "               Welcome there, Welcome to ATM\n",
    "               Please choose,\n",
    "               1. Enter 1 for Change password\n",
    "               2. Enter 2 for Balance check\n",
    "               3. Enter 3 for Withdraw\n",
    "               4. Enter 4 for Deposit\n",
    "               5. Exit\n",
    "               \"\"\")\n",
    "\n",
    "if choice == \"1\":\n",
    "    print(\"Change password\")\n",
    "elif choice == \"2\":\n",
    "    print(\"Balance check\")\n",
    "elif choice == \"3\":\n",
    "    print(\"Withdraw\")\n",
    "elif choice == \"4\":\n",
    "    print(\"Deposit money\")\n",
    "else:\n",
    "    print(\"Thank you for using ATM service!\")"
   ]
  }
 ],
 "metadata": {
  "kernelspec": {
   "display_name": "base",
   "language": "python",
   "name": "python3"
  },
  "language_info": {
   "codemirror_mode": {
    "name": "ipython",
    "version": 3
   },
   "file_extension": ".py",
   "mimetype": "text/x-python",
   "name": "python",
   "nbconvert_exporter": "python",
   "pygments_lexer": "ipython3",
   "version": "3.12.7"
  }
 },
 "nbformat": 4,
 "nbformat_minor": 2
}
