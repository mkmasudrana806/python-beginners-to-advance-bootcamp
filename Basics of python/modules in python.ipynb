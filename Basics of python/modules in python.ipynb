{
 "cells": [
  {
   "cell_type": "markdown",
   "metadata": {},
   "source": [
    "### There are two type of module in python\n",
    "1. Built-in module / package ( already available in python, no need to install seperately)\n",
    "\n",
    "* math\n",
    "* keywords\n",
    "* random\n",
    "* datetime\n",
    "\n",
    "\n",
    "2. External module or package ( not available in python, we need to install from internal or somewhere)\n",
    "Pip package manager help us to use external modules in python.\n"
   ]
  },
  {
   "cell_type": "code",
   "execution_count": 47,
   "metadata": {},
   "outputs": [
    {
     "name": "stdout",
     "output_type": "stream",
     "text": [
      "['False', 'None', 'True', 'and', 'as', 'assert', 'async', 'await', 'break', 'class', 'continue', 'def', 'del', 'elif', 'else', 'except', 'finally', 'for', 'from', 'global', 'if', 'import', 'in', 'is', 'lambda', 'nonlocal', 'not', 'or', 'pass', 'raise', 'return', 'try', 'while', 'with', 'yield']\n",
      "2024-11-12 16:26:29.639746\n"
     ]
    }
   ],
   "source": [
    "# math module\n",
    "import math\n",
    "\n",
    "# square root\n",
    "math.sqrt(2)\n",
    "\n",
    "# power\n",
    "math.pow(2, 3)\n",
    "\n",
    "# factorial\n",
    "math.factorial(5)\n",
    "\n",
    "math.isfinite(2/2)\n",
    "\n",
    "# keyword module\n",
    "import keyword\n",
    "\n",
    "# python keyword lists\n",
    "print(keyword.kwlist)\n",
    "\n",
    "keyword.iskeyword(\"if\")\n",
    "\n",
    "\n",
    "# random module\n",
    "import random\n",
    "random.randint(1, 20)\n",
    "\n",
    "# datetime module\n",
    "from datetime import datetime\n",
    "\n",
    "# print the current datetime\n",
    "print(datetime.now())\n",
    "\n",
    "# print all modules installed in this workspace\n",
    "# help(\"modules\")"
   ]
  }
 ],
 "metadata": {
  "kernelspec": {
   "display_name": "base",
   "language": "python",
   "name": "python3"
  },
  "language_info": {
   "codemirror_mode": {
    "name": "ipython",
    "version": 3
   },
   "file_extension": ".py",
   "mimetype": "text/x-python",
   "name": "python",
   "nbconvert_exporter": "python",
   "pygments_lexer": "ipython3",
   "version": "3.12.7"
  }
 },
 "nbformat": 4,
 "nbformat_minor": 2
}
