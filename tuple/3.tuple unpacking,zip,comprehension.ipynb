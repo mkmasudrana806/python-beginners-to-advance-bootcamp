{
 "cells": [
  {
   "cell_type": "markdown",
   "metadata": {},
   "source": [
    "# Tuple unpackig"
   ]
  },
  {
   "cell_type": "code",
   "execution_count": 1,
   "metadata": {},
   "outputs": [
    {
     "name": "stdout",
     "output_type": "stream",
     "text": [
      "1 2 3\n",
      "10 2 [4, 30]\n",
      "1 2 4\n",
      "((10, 30), (2, 3), (9, 0))\n"
     ]
    }
   ],
   "source": [
    "# tuple unpacking\n",
    "t = (1, 2, 3)\n",
    "\n",
    "# simple unpacking\n",
    "a, b, c = t\n",
    "print(a, b, c)\n",
    "\n",
    "# a, b = (1, 2, 4) # gives error.\n",
    "\n",
    "# tuple unpacking ( destructuring )\n",
    "a, b, *c = (10, 2, 4, 30) # a=10, b=2, c=[4, 30]\n",
    "print(a, b, c)\n",
    "\n",
    "# list unpacking\n",
    "a, b, c = [1, 2, 4]\n",
    "print(a, b, c)\n",
    "\n",
    "# zip tuple\n",
    "a = (10, 2, 9)\n",
    "b = (30, 3, 0)\n",
    "print(tuple(zip(a, b))) # i have converted zip to tuple iterable object"
   ]
  },
  {
   "cell_type": "markdown",
   "metadata": {},
   "source": [
    "# tuple comprehension\n",
    "Note: there is not tuple comprehension oficially in python"
   ]
  },
  {
   "cell_type": "code",
   "execution_count": 2,
   "metadata": {},
   "outputs": [
    {
     "name": "stdout",
     "output_type": "stream",
     "text": [
      "(2, 4, 6, 8, 10)\n",
      "(5,)\n"
     ]
    }
   ],
   "source": [
    "# tuple comprehension example\n",
    "T = (1, 2, 3, 4, 5)\n",
    "TC = tuple((i*2 for i in T))\n",
    "print(TC)\n",
    "\n",
    "# give numbers from tuple those are divisible by 5 usign tuple comprehension\n",
    "TC = tuple((i for i in T if i%5==0))\n",
    "print(TC)\n",
    "\n",
    "# others example see from list comprehension"
   ]
  }
 ],
 "metadata": {
  "kernelspec": {
   "display_name": "base",
   "language": "python",
   "name": "python3"
  },
  "language_info": {
   "codemirror_mode": {
    "name": "ipython",
    "version": 3
   },
   "file_extension": ".py",
   "mimetype": "text/x-python",
   "name": "python",
   "nbconvert_exporter": "python",
   "pygments_lexer": "ipython3",
   "version": "3.12.7"
  }
 },
 "nbformat": 4,
 "nbformat_minor": 2
}
