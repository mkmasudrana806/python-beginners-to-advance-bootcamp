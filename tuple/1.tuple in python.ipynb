{
 "cells": [
  {
   "cell_type": "markdown",
   "metadata": {},
   "source": [
    "# tuple in python\n",
    "In short, a tuple is and immutable list. A tuple can not be changed in any way once it is created\n",
    "\n",
    "Characteristics\n",
    "* Ordered\n",
    "* Unchangeble\n",
    "* Allows duplicate\n",
    "\n",
    "# Topic to be discussed\n",
    "* Creating a tuple\n",
    "* Accessing items\n",
    "* Editing items\n",
    "Adding items\n",
    "* Deleting items\n",
    "* Operations on tuples\n",
    "* Tuple functions\n"
   ]
  },
  {
   "cell_type": "code",
   "execution_count": 1,
   "metadata": {},
   "outputs": [
    {
     "name": "stdout",
     "output_type": "stream",
     "text": [
      "(10,)\n",
      "<class 'int'>\n",
      "(10, 10, 10, 'masud', True)\n",
      "5\n",
      "('H', 'e', 'l', 'l', 'o')\n"
     ]
    }
   ],
   "source": [
    "# empty tuple\n",
    "t1 = ()\n",
    "\n",
    "# single item tuple. Note: use comman after one element\n",
    "t2 = (10, )\n",
    "print(t2)\n",
    "\n",
    "t3 = (10)\n",
    "print(type(t3)) # return string.\n",
    "\n",
    "# duplicate, hetoragenous and len find\n",
    "t4 = (10, 10, 10, 'masud', True)\n",
    "print(t4)\n",
    "print(len(t4))\n",
    "\n",
    "# type conversion\n",
    "t = (\"Hello\")\n",
    "print(tuple(t)) # ('H', 'e', 'l', 'l', 'o')"
   ]
  },
  {
   "cell_type": "markdown",
   "metadata": {},
   "source": [
    "# Accessing item in tuple\n",
    "* indexing\n",
    "* slicing"
   ]
  },
  {
   "cell_type": "code",
   "execution_count": 2,
   "metadata": {},
   "outputs": [
    {
     "name": "stdout",
     "output_type": "stream",
     "text": [
      "masud\n",
      "shihab\n",
      "('rana', 'sheikh')\n",
      "('rana', 'sheikh', 'shihab')\n",
      "('masud', 'sheikh')\n"
     ]
    }
   ],
   "source": [
    "# positive indexing\n",
    "t = ('masud', 'rana', 'sheikh', 'shihab')\n",
    "print(t[0]) # masud\n",
    "\n",
    "# negative indexing\n",
    "print(t[-1]) # shihab\n",
    "\n",
    "# positive slicing\n",
    "print(t[1:3]) # ('rana', 'sheikh')\n",
    "\n",
    "# negative slicing\n",
    "print(t[-3:]) # ('rana', 'sheikh')\n",
    "\n",
    "# jump tuple\n",
    "print(t[0:4:2]) # ('masud', 'sheikh')"
   ]
  },
  {
   "cell_type": "markdown",
   "metadata": {},
   "source": [
    "# Type conversion"
   ]
  },
  {
   "cell_type": "code",
   "execution_count": 3,
   "metadata": {},
   "outputs": [
    {
     "name": "stdout",
     "output_type": "stream",
     "text": [
      "2320676683520\n",
      "2320676651584\n",
      "2320674767712\n",
      "(10, 20, 30, 50)\n",
      "\n"
     ]
    }
   ],
   "source": [
    "# add item to tuple.\n",
    "# 1st convert tuple into list then add item to list. then convert list to tuple\n",
    "t = (10, 20, 30)\n",
    "print(id(t))\n",
    "\n",
    "temp = list(t)\n",
    "print(id(temp))\n",
    "\n",
    "temp.append(50)\n",
    "\n",
    "t = tuple(temp)\n",
    "print(id(t))\n",
    "\n",
    "print(t) # (10, 20, 30, 50)\n",
    "\n",
    "# how it works?\n",
    "\"\"\"\n",
    "when we convert tuple to list, and add item to list.\n",
    "and then convert that list to tuple. here seen that the previous tuple memory address is changed.\n",
    "means another memory address is created.\n",
    "\"\"\"\n",
    "print()"
   ]
  },
  {
   "cell_type": "markdown",
   "metadata": {},
   "source": [
    "# tuple operations\n",
    "* concatenation operations\n",
    "* multiplication operations\n",
    "* membership operations"
   ]
  },
  {
   "cell_type": "code",
   "execution_count": 4,
   "metadata": {},
   "outputs": [
    {
     "name": "stdout",
     "output_type": "stream",
     "text": [
      "(1, 2, 4, 10, 2, 9)\n",
      "(1, 2, 4, 1, 2, 4, 1, 2, 4)\n",
      "True\n",
      "False\n",
      "10\n",
      "20\n",
      "30\n",
      "40\n",
      "50\n"
     ]
    }
   ],
   "source": [
    "# concatenation\n",
    "t1 = (1, 2, 4)\n",
    "t2 = (10, 2, 9)\n",
    "result = t1 + t2\n",
    "print(result) # (1, 2, 4, 10, 2, 9)\n",
    "\n",
    "\n",
    "# multiplication\n",
    "t1 = (1, 2, 4)\n",
    "t2 = t1 * 3 # repeat same value 3 times. (1, 2, 4, 1, 2, 4, 1, 2, 4)\n",
    "print(t2)\n",
    "\n",
    "# membership\n",
    "t1 = (1, 2, 4)\n",
    "print(1 in t1) # True\n",
    "print(10 in t1) # False\n",
    "\n",
    "# loop\n",
    "t1 =  (10, 20, 30, 40, 50)\n",
    "for i in t1:\n",
    "  print(i)\n"
   ]
  }
 ],
 "metadata": {
  "kernelspec": {
   "display_name": "base",
   "language": "python",
   "name": "python3"
  },
  "language_info": {
   "codemirror_mode": {
    "name": "ipython",
    "version": 3
   },
   "file_extension": ".py",
   "mimetype": "text/x-python",
   "name": "python",
   "nbconvert_exporter": "python",
   "pygments_lexer": "ipython3",
   "version": "3.12.7"
  }
 },
 "nbformat": 4,
 "nbformat_minor": 2
}
