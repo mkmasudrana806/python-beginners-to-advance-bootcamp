{
 "cells": [
  {
   "cell_type": "markdown",
   "metadata": {},
   "source": [
    "# tuple methods\n",
    "global: len, max, min, sum, sorted\n",
    "* count\n",
    "* index"
   ]
  },
  {
   "cell_type": "code",
   "execution_count": null,
   "metadata": {},
   "outputs": [],
   "source": [
    "# all the methods\n",
    "t = (10, 20, 2, 9, 9)\n",
    "\n",
    "# len\n",
    "print(len(t))\n",
    "\n",
    "# max\n",
    "print(max(t))\n",
    "\n",
    "# min\n",
    "print(min(t))\n",
    "\n",
    "# sorted ascending order\n",
    "print(sorted(t))\n",
    "\n",
    "# sorted descending order\n",
    "print(sorted(t, reverse=True))\n",
    "\n",
    "# count\n",
    "print(t.count(9)) # 2\n",
    "\n",
    "# index\n",
    "print(t.index(9)) # 3"
   ]
  },
  {
   "cell_type": "markdown",
   "metadata": {},
   "source": [
    "# Difference between List and Tuple\n",
    "* Syntax: [] - ()\n",
    "* Mutability: mutable - immutable\n",
    "* Speed: slower - faster\n",
    "* Memory: More - less (see below program)\n",
    "* Built in functionality: More - less\n",
    "* Error prone: more - less ( see below program )"
   ]
  },
  {
   "cell_type": "code",
   "execution_count": null,
   "metadata": {},
   "outputs": [],
   "source": [
    "# list and tuple memory size measure\n",
    "# size of a tuple and list of same size\n",
    "import sys\n",
    "L = list(range(1000000))\n",
    "T = tuple(range(1000000))\n",
    "\n",
    "import sys\n",
    "\n",
    "print(sys.getsizeof(L))\n",
    "print(sys.getsizeof(T))\n",
    "\n",
    "# list and tuple memory behaviour.\n",
    "# when we assign a list to a variable, mainly it assign the original list memory address\n",
    "# therefor both variable print the same value\n",
    "L = [1, 2, 4]\n",
    "TL = L\n",
    "\n",
    "\n",
    "print(L) # [1, 2, 4]\n",
    "print(TL) # [1, 2, 4]\n",
    "\n",
    "# tuple each time make a new memory block. that is why when we change the T, it can not affect the TT\n",
    "T = (1, 2, 4)\n",
    "TT = T + (5,)\n",
    "\n",
    "print(T) # (1, 2, 4)\n",
    "print(id(T))\n",
    "\n",
    "print(TT) # (1, 2, 4, 5)\n",
    "print(id(TT))\n"
   ]
  }
 ],
 "metadata": {
  "kernelspec": {
   "display_name": "base",
   "language": "python",
   "name": "python3"
  },
  "language_info": {
   "name": "python",
   "version": "3.12.7"
  }
 },
 "nbformat": 4,
 "nbformat_minor": 2
}
