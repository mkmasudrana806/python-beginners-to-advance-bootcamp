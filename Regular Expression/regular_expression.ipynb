{
 "cells": [
  {
   "cell_type": "markdown",
   "metadata": {},
   "source": [
    "# Regular expression in Python\n",
    "Regular expressions or 'regex' for short, are a powerful tool for working with strings and text data in Python. They allow you to match and mainpulate strings based on patterns, making it easy to perform complex string operations with just a few lines of code\n",
    "\n",
    "# Metacharacters in regular expression\n",
    "Follow this tutorial: https://www.ibm.com/docs/en/rational-clearquest/9.0.1?topic=tags-meta-characters-in-regular-expressions\n",
    "\n",
    "# Regular expression documentation\n",
    "https://docs.python.org/3/library/re.html"
   ]
  },
  {
   "cell_type": "code",
   "execution_count": 1,
   "metadata": {},
   "outputs": [
    {
     "name": "stdout",
     "output_type": "stream",
     "text": [
      "<re.Match object; span=(213, 220), match='Cyclone'>\n",
      "clones \n",
      "<callable_iterator object at 0x00000189E588D060>\n",
      "Cyclone\n",
      "Pyclone\n",
      "Myclone\n",
      "['Cyclone', 'Pyclone', 'Myclone']\n"
     ]
    }
   ],
   "source": [
    "text = \"\"\"\n",
    "Upper level cyclone can exist without the presence of a surface low,\n",
    "and can pinch off dyclone from the base of the tropical upper tropospheric trough during\n",
    "the summer months in the tyclone Northern Hemisphere.\n",
    "Cyclones have Pyclone also been seen on extraterrestrial planets,\n",
    "such as Mars, Myclone Jupiter, and Neptune.\n",
    "\"\"\"\n",
    "\n",
    "# find a single word that anychar'yclone'\n",
    "import re\n",
    "pattern = r'[A-Z]yclone'\n",
    "matches = re.search(pattern, text) # return object with match index\n",
    "print(matches)\n",
    "print(text[215:222])\n",
    "\n",
    "\n",
    "# find all matches items\n",
    "pattern = r'[A-Z]yclone'\n",
    "matches = re.finditer(pattern, text) # return iterator object with matches index\n",
    "print(matches)\n",
    "for match in matches:\n",
    "  index = match.span()\n",
    "  print(text[index[0]:index[1]])\n",
    "\n",
    "\n",
    "# find all matches items\n",
    "patter = r'[A-Z]yclone'\n",
    "match = re.findall(pattern, text) # return list of matches words\n",
    "print(match)\n",
    "\n"
   ]
  },
  {
   "cell_type": "markdown",
   "metadata": {},
   "source": [
    "# Email extracting from string\n",
    "pattern: r\"[a-z0-9\\.\\-+_]+@[a-z0-9\\.\\-+_]+\\.[a-z]+\"\n",
    "also you can find more pattern in google"
   ]
  },
  {
   "cell_type": "code",
   "execution_count": 2,
   "metadata": {},
   "outputs": [
    {
     "name": "stdout",
     "output_type": "stream",
     "text": [
      "['213902101@student.green.edu.bd', 'info@geeksforgeeks.com', 'geeksforgeeks@rocks.xyz', 'pre@rsos_tium.index', 'love@gfg.in']\n"
     ]
    }
   ],
   "source": [
    "text = \"\"\"213902101@student.green.edu.bd Duis info@geeksforgeeks.com convallis. Parturient montes nascetur ridiculus mus\n",
    "geeksforgeeks@rocks.xyz mauris. Odio eu feugiat pre@rsos_tium.index nibh ipsum consequat love@gfg.in\n",
    "pretium aenean pharetra magna ac placerat. Vitae justo eget magna fermentum iaculis eu non .\"\"\"\n",
    "\n",
    "pattern = r\"[a-z0-9\\.\\-+_]+@[a-z0-9\\.\\-+_]+\\.[a-z]+\"\n",
    "matches = re.findall(pattern, text)\n",
    "print(matches)\n"
   ]
  }
 ],
 "metadata": {
  "kernelspec": {
   "display_name": "base",
   "language": "python",
   "name": "python3"
  },
  "language_info": {
   "codemirror_mode": {
    "name": "ipython",
    "version": 3
   },
   "file_extension": ".py",
   "mimetype": "text/x-python",
   "name": "python",
   "nbconvert_exporter": "python",
   "pygments_lexer": "ipython3",
   "version": "3.12.7"
  }
 },
 "nbformat": 4,
 "nbformat_minor": 2
}
