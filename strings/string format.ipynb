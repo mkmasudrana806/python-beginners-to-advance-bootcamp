{
 "cells": [
  {
   "cell_type": "markdown",
   "metadata": {},
   "source": [
    "### String format\n",
    "* format method\n",
    "* f string\n"
   ]
  },
  {
   "cell_type": "code",
   "execution_count": null,
   "metadata": {},
   "outputs": [
    {
     "name": "stdout",
     "output_type": "stream",
     "text": [
      "My name is Masud Rana, and my age is 23\n",
      "My name is Masud Rana and my age is 23\n"
     ]
    }
   ],
   "source": [
    "s = \"My name is {}, and my age is {}\" # here we can assign own index\n",
    "# format\n",
    "name = \"Masud Rana\" \n",
    "age = 23\n",
    "print(s.format(name, age)) # here passing argument to format maintained index from 0, 1, to and so on\n",
    "\n",
    "# f-string\n",
    "print(f\"My name is {name} and my age is {age}\") # it do the same thing"
   ]
  }
 ],
 "metadata": {
  "kernelspec": {
   "display_name": "base",
   "language": "python",
   "name": "python3"
  },
  "language_info": {
   "codemirror_mode": {
    "name": "ipython",
    "version": 3
   },
   "file_extension": ".py",
   "mimetype": "text/x-python",
   "name": "python",
   "nbconvert_exporter": "python",
   "pygments_lexer": "ipython3",
   "version": "3.12.7"
  }
 },
 "nbformat": 4,
 "nbformat_minor": 2
}
