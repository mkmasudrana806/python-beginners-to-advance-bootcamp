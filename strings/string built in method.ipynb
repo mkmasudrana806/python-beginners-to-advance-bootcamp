{
 "cells": [
  {
   "cell_type": "markdown",
   "metadata": {},
   "source": [
    "## Common functions / Methods\n",
    "* len\n",
    "* max\n",
    "* min\n",
    "* sorted"
   ]
  },
  {
   "cell_type": "code",
   "execution_count": 12,
   "metadata": {},
   "outputs": [
    {
     "name": "stdout",
     "output_type": "stream",
     "text": [
      "21\n",
      "y\n",
      " \n",
      "[' ', ' ', ' ', 'W', 'c', 'e', 'e', 'e', 'h', 'h', 'l', 'm', 'n', 'o', 'o', 'o', 'p', 't', 't', 't', 'y']\n",
      "['y', 't', 't', 't', 'p', 'o', 'o', 'o', 'n', 'm', 'l', 'h', 'h', 'e', 'e', 'e', 'c', 'W', ' ', ' ', ' ']\n"
     ]
    }
   ],
   "source": [
    "# len\n",
    "text = \"Welcome to the python\"\n",
    "print(len(text))\n",
    "\n",
    "# max\n",
    "print(max(text)) # return maximum asci valued character\n",
    "\n",
    "# min\n",
    "print(min(text)) # return minimum asci valued character\n",
    "\n",
    "# sorted ascending order\n",
    "print(sorted(text)) # return sorted order array\n",
    "\n",
    "# sort descending\n",
    "print(sorted(text, reverse=True)) # return descending order"
   ]
  },
  {
   "cell_type": "markdown",
   "metadata": {},
   "source": [
    "### String methods\n",
    "* capitalize\n",
    "* title\n",
    "* upper\n",
    "* lower\n",
    "* swapcase\n",
    "Note: all the methods doesn't change the original string. it's just return copy of the original string"
   ]
  },
  {
   "cell_type": "code",
   "execution_count": 13,
   "metadata": {},
   "outputs": [
    {
     "name": "stdout",
     "output_type": "stream",
     "text": [
      "Welcome to the python\n",
      "Welcome To The Python\n",
      "WELCOME TO THE PYTHON\n",
      "welcome to the python\n",
      "mASuD\n"
     ]
    }
   ],
   "source": [
    "s = \"Welcome to the python\"\n",
    "# capitalize\n",
    "print(s.capitalize()) # return capitalized string\n",
    "\n",
    "# title\n",
    "print(s.title()) # each word should be capitalized in the string\n",
    "\n",
    "# upper\n",
    "print(s.upper()) # all characters should be upper case\n",
    "\n",
    "# lower\n",
    "print(s.lower()) # all characters should be lower case\n",
    "\n",
    "# swapcase\n",
    "name = \"MasUd\"\n",
    "print(name.swapcase()) # it swap each character. lower will be upper case. and vice versa"
   ]
  },
  {
   "cell_type": "markdown",
   "metadata": {},
   "source": [
    "# String matching\n",
    "* count\n",
    "* find\n",
    "* index\n",
    "* startwith\n",
    "* endwith"
   ]
  },
  {
   "cell_type": "code",
   "execution_count": 14,
   "metadata": {},
   "outputs": [
    {
     "name": "stdout",
     "output_type": "stream",
     "text": [
      "2\n",
      "3\n",
      "3\n",
      "False\n",
      "True\n"
     ]
    }
   ],
   "source": [
    "s = \"My name is masud rana\"\n",
    "# count\n",
    "print(s.count(\"n\")) # return no of occurence of 'n' in the string\n",
    "\n",
    "# find\n",
    "print(s.find('n')) # return index of first found\n",
    "\n",
    "# index\n",
    "print(s.index('n')) # return index of 1st found. \n",
    "\n",
    "# Note: if nothing found in the string then 'find' return -1. but 'index' method return error\n",
    "\n",
    "# startWith\n",
    "print(s.startswith('ana')) # return False as  it start with 'Ma..\n",
    "\n",
    "# endswith\n",
    "print(s.endswith('ana')) # return True as ending with 'ana'\n",
    "#Note: both are case sensitive"
   ]
  },
  {
   "cell_type": "markdown",
   "metadata": {},
   "source": [
    "# Some important string methods\n",
    "* format\n",
    "* isalnum ( means string contains alphabetic and number)\n",
    "* isalpha ( means string contains only alphabetic )\n",
    "* isdigit ( means string contains only digits )\n",
    "* isidentifier check string identifier or not"
   ]
  },
  {
   "cell_type": "code",
   "execution_count": null,
   "metadata": {},
   "outputs": [
    {
     "name": "stdout",
     "output_type": "stream",
     "text": [
      "Hello Masud Rana. Your age is 23\n",
      "Hello 23. Your age is Masud Rana\n",
      "True\n",
      "False\n",
      "False\n",
      "True\n",
      "False\n"
     ]
    }
   ],
   "source": [
    "name = \"Masud Rana\"\n",
    "age = 23\n",
    "\n",
    "s = \"Hello {}. Your age is {}\"  \n",
    "print(s.format(name, age)) \n",
    "\n",
    "\n",
    "s = \"Hello {1}. Your age is {0}\" # by default 1st placeholder index 0, then 1 then 2 and so on. but we can control the index here by passing assigned index value\n",
    "print(s.format(name, age)) # here 1st argument index 0, second argument 1 and so on...\n",
    "\n",
    "# isalnum()\n",
    "x = \"masud806\"\n",
    "print(x.isalnum()) # True\n",
    "\n",
    "# isalpha()\n",
    "print(x.isalpha()) # False\n",
    "\n",
    "# isdigit()\n",
    "print(x.isdigit()) # False\n",
    "\n",
    "# isidentifier()\n",
    "print(x.isidentifier()) # True. because identifier can have digit in the last\n",
    "print(\"masud@\".isidentifier()) # False. at last special character not allowed. _uderscore allows\n"
   ]
  },
  {
   "cell_type": "markdown",
   "metadata": {},
   "source": [
    "### String manipulation methods\n",
    "* split\n",
    "* join\n",
    "* replace\n",
    "* strip"
   ]
  },
  {
   "cell_type": "code",
   "execution_count": null,
   "metadata": {},
   "outputs": [
    {
     "name": "stdout",
     "output_type": "stream",
     "text": [
      "['My', 'Name', 'is', 'masud', 'rana']\n",
      "['masud', ' comman seperated']\n",
      "My Name is masud rana\n",
      "My Name is Atel rana\n",
      "26\n",
      "10\n"
     ]
    }
   ],
   "source": [
    "s = \"My Name is masud rana\"\n",
    "# split() we can pass any sperator. by default space\n",
    "words = s.split(\" \")\n",
    "print(words) # return array of string\n",
    "\n",
    "print(\"masud, comman seperated\".split(\",\")) # [\"masud, comman seperated]\n",
    "\n",
    "# join()  \n",
    "a = \" \" # we can pass any parameter here like -, *, @ etc\n",
    "print(a.join(words)) # return joined sentence\n",
    "\n",
    "# replace\n",
    "print(s.replace(\"masud\", \"Atel\"))\n",
    "\n",
    "# strip remove head and tail whitespace from a string\n",
    "name = \"Masud Rana                \"\n",
    "print(len(name)) # 26\n",
    "print(len(name.strip())) # 10"
   ]
  }
 ],
 "metadata": {
  "kernelspec": {
   "display_name": "base",
   "language": "python",
   "name": "python3"
  },
  "language_info": {
   "codemirror_mode": {
    "name": "ipython",
    "version": 3
   },
   "file_extension": ".py",
   "mimetype": "text/x-python",
   "name": "python",
   "nbconvert_exporter": "python",
   "pygments_lexer": "ipython3",
   "version": "3.12.7"
  }
 },
 "nbformat": 4,
 "nbformat_minor": 2
}
