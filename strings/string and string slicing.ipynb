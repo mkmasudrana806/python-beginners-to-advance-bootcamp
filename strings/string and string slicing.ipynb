{
 "cells": [
  {
   "cell_type": "markdown",
   "metadata": {},
   "source": [
    "### String in python\n",
    "string in python is sequences of unicode characters\n"
   ]
  },
  {
   "cell_type": "code",
   "execution_count": 44,
   "metadata": {},
   "outputs": [
    {
     "name": "stdout",
     "output_type": "stream",
     "text": [
      "\n",
      "My name is : Masud Rana\n",
      "my age is : 23\n",
      "\n",
      "m\n",
      "a\n",
      "s\n",
      "u\n",
      "d\n",
      "5\n",
      "s\n",
      "Mas\n",
      "d\n",
      "u\n",
      "sud\n",
      "Mas\n",
      "This code praticed by 'Masud Rana'\n",
      "True\n"
     ]
    }
   ],
   "source": [
    "# create string\n",
    "a = \"hello\"\n",
    "b = 'hello'\n",
    "c = str('hello')\n",
    "d = \"\"\"hello\"\"\"\n",
    "e = '''\n",
    "My name is : Masud Rana\n",
    "my age is : 23\n",
    "'''\n",
    "print(e)\n",
    "\n",
    "\n",
    "\n",
    "# loop in string\n",
    "for char in \"masud\":\n",
    "    print(char)\n",
    "    \n",
    "\n",
    "# len() of string\n",
    "name = \"Masud\"\n",
    "print(len(name))\n",
    "\n",
    "# access string by index\n",
    "print(name[2]) # s\n",
    "print(name[:3]) # 0 to 2 index characters\n",
    "print(name[-1]) # startign from last index character\n",
    "print(name[-2]) # u\n",
    "print(name[2:5]) # 2 to 4 index characters. sud\n",
    "print(name[:3]) # 0 to 3 index characters. Mas\n",
    "\n",
    "\n",
    "# quote inside string\n",
    "text = \"This code praticed by 'Masud Rana'\" # quote inside quote must be different one of them. either outer double quote or inner double quote. not both double quote\n",
    "print(text)\n",
    "\n",
    "\n",
    "# check word in string\n",
    "text = \"This code praticed by 'Masud Rana'\"\n",
    "print(\"Masud\" in text) \n",
    "\n"
   ]
  },
  {
   "cell_type": "markdown",
   "metadata": {},
   "source": [
    "### String slicing"
   ]
  },
  {
   "cell_type": "code",
   "execution_count": 45,
   "metadata": {},
   "outputs": [
    {
     "name": "stdout",
     "output_type": "stream",
     "text": [
      "l\n",
      "Wloet yhn\n",
      "dusa\n",
      "dusaM\n",
      "dsM\n",
      "python\n",
      "nohtyp\n"
     ]
    }
   ],
   "source": [
    "# string slicing means range(start, end, step) similar to [start:end:step]\n",
    "name = \"Welcome to python\"\n",
    "print(name[2:3:2]) # l. jump 1 character. \n",
    "print(name[::2]) # 0 to last index and skip 1 character each time\n",
    "\n",
    "# reverse string\n",
    "name = \"Masud\"\n",
    "print(name[6:0:-1]) # dusa\n",
    "\n",
    "# reverse string\n",
    "print(name[::-1]) # reverse the string\n",
    "print(name[::-2]) # jump 1 character but in reverse\n",
    "\n",
    "\n",
    "# extract word from text\n",
    "text =\"Welcome to python\" # extract python\n",
    "print(text[-6:])\n",
    "\n",
    "print(text[-1:-7:-1])\n"
   ]
  }
 ],
 "metadata": {
  "kernelspec": {
   "display_name": "base",
   "language": "python",
   "name": "python3"
  },
  "language_info": {
   "codemirror_mode": {
    "name": "ipython",
    "version": 3
   },
   "file_extension": ".py",
   "mimetype": "text/x-python",
   "name": "python",
   "nbconvert_exporter": "python",
   "pygments_lexer": "ipython3",
   "version": "3.12.7"
  }
 },
 "nbformat": 4,
 "nbformat_minor": 2
}
