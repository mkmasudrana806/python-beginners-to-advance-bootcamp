{
 "cells": [
  {
   "cell_type": "markdown",
   "metadata": {},
   "source": [
    "# String operations\n",
    "* Contenation operations\n",
    "* Relational operations\n",
    "* Logical operations\n",
    "* Loops on String\n",
    "* Membership operations"
   ]
  },
  {
   "cell_type": "code",
   "execution_count": null,
   "metadata": {},
   "outputs": [
    {
     "name": "stdout",
     "output_type": "stream",
     "text": [
      "Hello Masud Rana\n",
      "Masud Masud Masud Masud Masud Masud Masud Masud Masud Masud \n",
      "**************************************************\n",
      "True\n",
      "False\n",
      "True\n",
      "False\n",
      "True\n",
      "world\n",
      "hello\n",
      " \n",
      "M\n",
      "a\n",
      "s\n",
      "u\n",
      "d\n",
      "No world found in text\n"
     ]
    }
   ],
   "source": [
    "# ------------ String concatenation operations ------------\n",
    "print(\"Hello\" + \" \" + \"Masud Rana\")\n",
    "\n",
    "\n",
    "# ------------ string multiplication operations ------------\n",
    "print(\"Masud \" * 10) # it print \"Masud\" 10 times\n",
    "print(\"*\" * 50)\n",
    "\n",
    "\n",
    "# ------------ Relational operations ------------\n",
    "print(\"Hello\" == \"Hello\") # True\n",
    "print(\"Hello\" != \"Hello\") # False\n",
    "print(\"Hello\" < \"World\") # True\n",
    "print(\"Hello\" > \"Hi\") # False\n",
    "print(\"Hello\" >= \"Hello\") # True\n",
    "\n",
    "\n",
    "# ------------ Logical operations ------------\n",
    "# \"hello\" consider as True\n",
    "# \" \" empty string consider as False\n",
    "\n",
    "print(\"hello\" and \"world\") # world. 1st \"hello\" is check and it is true. 2nd \"world\" is also true and then it print\n",
    "\n",
    "print(\"hello\" or \"world\") # as or operation. when \"hello\" check and got True, then it print\n",
    "\n",
    "print(\" \" or \"hello\") # it print \"hello\". 1st condition is false. that's why it check second condition and got True. then it print that string\n",
    "\n",
    "# ------------ Loops and Membership operations ------------\n",
    "name = \"Masud\"\n",
    "for i in name:\n",
    "    print(i)\n",
    "\n",
    "# membership operations\n",
    "text = \"Hello world\"\n",
    "if \"world\" in text:\n",
    "    print('Yes world found in text')\n",
    "else:\n",
    "    print('No world found in text')"
   ]
  }
 ],
 "metadata": {
  "kernelspec": {
   "display_name": "base",
   "language": "python",
   "name": "python3"
  },
  "language_info": {
   "codemirror_mode": {
    "name": "ipython",
    "version": 3
   },
   "file_extension": ".py",
   "mimetype": "text/x-python",
   "name": "python",
   "nbconvert_exporter": "python",
   "pygments_lexer": "ipython3",
   "version": "3.12.7"
  }
 },
 "nbformat": 4,
 "nbformat_minor": 2
}
