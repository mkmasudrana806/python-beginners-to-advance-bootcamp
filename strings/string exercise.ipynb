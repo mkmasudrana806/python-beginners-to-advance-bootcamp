{
 "cells": [
  {
   "cell_type": "markdown",
   "metadata": {},
   "source": [
    "# String exercise\n",
    "1. find length of a string without using len() method\n",
    "2. extract username from a given email\n",
    "3. write a program to check a string si palinedrome or not\n",
    "some of the palinedrome number\n",
    "* abba\n",
    "* malayalam\n",
    "* mam\n"
   ]
  },
  {
   "cell_type": "code",
   "execution_count": 1,
   "metadata": {},
   "outputs": [
    {
     "name": "stdout",
     "output_type": "stream",
     "text": [
      "length of the string is: 5\n",
      "username is: mkmasudrana806\n",
      "username is: mkmasudrana806\n",
      "mama is not palinedrome string\n",
      "malayalam is palinedrome string\n"
     ]
    }
   ],
   "source": [
    "# find length of a string without using len() method\n",
    "string = \"Masud\"\n",
    "count=0\n",
    "for i in string:\n",
    "  count+=1\n",
    "print(f\"length of the string is: {count}\")\n",
    "\n",
    "# extract username from a given email. mkmasudrana806@gmail.com\n",
    "email = \"mkmasudrana806@gmail.com\"\n",
    "pos = email.index(\"@\")\n",
    "username = email[:pos]\n",
    "print(f\"username is: {username}\")\n",
    "\n",
    "# extract username from email (another way)\n",
    "username = email.split(\"@\")[0]\n",
    "print(f\"username is: {username}\")\n",
    "\n",
    "# write a string is palinedrome or not using slice\n",
    "s = \"mama\"\n",
    "if s == s[::-1]:\n",
    "  print(f\"{s} is palinedrome string\")\n",
    "else:\n",
    "  print(f\"{s} is not palinedrome string\")\n",
    "\n",
    "# write a string is palinedrome or not using raw code\n",
    "word = \"malayalam\"\n",
    "for i in range(0, int(len(word)/2)): # len(word)//2 here floor division\n",
    "  if word[i] != word[len(word) - i - 1]:\n",
    "    print(f\"{word} is not palinedrome string\")\n",
    "    break\n",
    "else:\n",
    "  print(f\"{word} is palinedrome string\")\n"
   ]
  }
 ],
 "metadata": {
  "kernelspec": {
   "display_name": "base",
   "language": "python",
   "name": "python3"
  },
  "language_info": {
   "codemirror_mode": {
    "name": "ipython",
    "version": 3
   },
   "file_extension": ".py",
   "mimetype": "text/x-python",
   "name": "python",
   "nbconvert_exporter": "python",
   "pygments_lexer": "ipython3",
   "version": "3.12.7"
  }
 },
 "nbformat": 4,
 "nbformat_minor": 2
}
