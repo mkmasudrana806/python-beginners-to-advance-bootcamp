{
 "cells": [
  {
   "cell_type": "markdown",
   "metadata": {
    "id": "GMk5dWvEZB-6"
   },
   "source": [
    "# Polymorphism in OOP\n",
    "Polymorphism refers to having multiple forms. Polymorphism is a programming term that refers to the use of the same function name, but with different signatures.\n",
    "* Method Overriding\n",
    "* Method Overloading\n",
    "* Operator Overloading\n",
    "\n",
    "**Note**: there is no concept of Polymorphism in python. we have to use our own technique"
   ]
  },
  {
   "cell_type": "code",
   "execution_count": 4,
   "metadata": {
    "colab": {
     "base_uri": "https://localhost:8080/",
     "height": 176
    },
    "executionInfo": {
     "elapsed": 645,
     "status": "error",
     "timestamp": 1731935751433,
     "user": {
      "displayName": "Md Masud Rana GUB",
      "userId": "14207477694270542702"
     },
     "user_tz": -360
    },
    "id": "f1rx8aUxWiKR",
    "outputId": "890c1d20-4187-46e0-d1aa-88f5ab290344"
   },
   "outputs": [
    {
     "ename": "TypeError",
     "evalue": "Shape.area() missing 1 required positional argument: 'width'",
     "output_type": "error",
     "traceback": [
      "\u001b[0;31m---------------------------------------------------------------------------\u001b[0m",
      "\u001b[0;31mTypeError\u001b[0m                                 Traceback (most recent call last)",
      "\u001b[0;32m<ipython-input-4-6be19fcb68fd>\u001b[0m in \u001b[0;36m<cell line: 11>\u001b[0;34m()\u001b[0m\n\u001b[1;32m      9\u001b[0m \u001b[0;34m\u001b[0m\u001b[0m\n\u001b[1;32m     10\u001b[0m \u001b[0ms\u001b[0m \u001b[0;34m=\u001b[0m \u001b[0mShape\u001b[0m\u001b[0;34m(\u001b[0m\u001b[0;34m)\u001b[0m\u001b[0;34m\u001b[0m\u001b[0;34m\u001b[0m\u001b[0m\n\u001b[0;32m---> 11\u001b[0;31m \u001b[0ms\u001b[0m\u001b[0;34m.\u001b[0m\u001b[0marea\u001b[0m\u001b[0;34m(\u001b[0m\u001b[0;36m2\u001b[0m\u001b[0;34m)\u001b[0m \u001b[0;31m# gives error. it should take 1st method called. but it called 2nd, that's why gives error\u001b[0m\u001b[0;34m\u001b[0m\u001b[0;34m\u001b[0m\u001b[0m\n\u001b[0m",
      "\u001b[0;31mTypeError\u001b[0m: Shape.area() missing 1 required positional argument: 'width'"
     ]
    }
   ],
   "source": [
    "# Shape class\n",
    "class Shape:\n",
    "  def area(self, radius):\n",
    "    return 3.14 * radius * radius\n",
    "\n",
    "  def area(self, length, width):\n",
    "    return length * width\n",
    "\n",
    "\n",
    "s = Shape()\n",
    "s.area(2) # gives error. it should take 1st method called. but it called 2nd, that's why gives error"
   ]
  },
  {
   "cell_type": "code",
   "execution_count": 7,
   "metadata": {
    "colab": {
     "base_uri": "https://localhost:8080/"
    },
    "executionInfo": {
     "elapsed": 418,
     "status": "ok",
     "timestamp": 1731935868697,
     "user": {
      "displayName": "Md Masud Rana GUB",
      "userId": "14207477694270542702"
     },
     "user_tz": -360
    },
    "id": "2IIdvaF5akd2",
    "outputId": "d87cce45-bb47-4ed1-f9db-279df69a45ac"
   },
   "outputs": [
    {
     "data": {
      "text/plain": [
       "6"
      ]
     },
     "execution_count": 7,
     "metadata": {},
     "output_type": "execute_result"
    }
   ],
   "source": [
    "# Shape class\n",
    "class Shape:\n",
    "  def area(self, radius, length, width):\n",
    "    if length == None and width == None:\n",
    "      return 3.14 * radius * radius\n",
    "    else:\n",
    "      return length * width\n",
    "\n",
    "\n",
    "s = Shape()\n",
    "\n",
    "s.area(2, None, None)\n",
    "s.area(None, 2, 3)\n",
    "\n"
   ]
  },
  {
   "cell_type": "markdown",
   "metadata": {
    "id": "M8io_VB_bXyM"
   },
   "source": [
    "# Abstraction in OOP\n",
    "Abstraction is a fundamental conceopt in Python programming that allows us to simplify complex concepts and focus on the essential details. it involves hiding unnecessary dtails and exposing only the relevant information to the users"
   ]
  },
  {
   "cell_type": "code",
   "execution_count": 9,
   "metadata": {
    "colab": {
     "base_uri": "https://localhost:8080/"
    },
    "executionInfo": {
     "elapsed": 441,
     "status": "ok",
     "timestamp": 1731938611964,
     "user": {
      "displayName": "Md Masud Rana GUB",
      "userId": "14207477694270542702"
     },
     "user_tz": -360
    },
    "id": "WDok-eiDbefc",
    "outputId": "be7fde0e-7878-425c-b2f5-db8ea69bae69"
   },
   "outputs": [
    {
     "name": "stdout",
     "output_type": "stream",
     "text": [
      "Database is connected\n",
      "Mobile app login successfull\n",
      "security is created for mobile app\n"
     ]
    }
   ],
   "source": [
    "# Abstraction in OOP\n",
    "from abc import ABC, abstractmethod\n",
    "\n",
    "class BankServer(ABC):\n",
    "  def database(self):\n",
    "    print(\"Database is connected\")\n",
    "\n",
    "  @abstractmethod\n",
    "  def security(self):\n",
    "    print(\"Security pass\")\n",
    "\n",
    "\n",
    "# junior\n",
    "class Mobileapp(BankServer):\n",
    "  def mobile_login(self):\n",
    "    print('Mobile app login successfull')\n",
    "\n",
    "  def security(self):\n",
    "    print('security is created for mobile app')\n",
    "\n",
    "\n",
    "mob = Mobileapp()\n",
    "mob.database()\n",
    "mob.mobile_login()\n",
    "mob.security()"
   ]
  }
 ],
 "metadata": {
  "colab": {
   "authorship_tag": "ABX9TyP3WWuQuI9IGgDCfiO1XSt1",
   "provenance": [],
   "toc_visible": true
  },
  "kernelspec": {
   "display_name": "base",
   "language": "python",
   "name": "python3"
  },
  "language_info": {
   "name": "python",
   "version": "3.12.7"
  }
 },
 "nbformat": 4,
 "nbformat_minor": 0
}
