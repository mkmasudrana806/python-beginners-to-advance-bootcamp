{
 "cells": [
  {
   "cell_type": "markdown",
   "metadata": {
    "id": "wspKBioA_FjQ"
   },
   "source": [
    "# Aggregation in OOP\n",
    "if any class has relationship with other class then it is called aggregation in OOP.\n",
    "\n",
    "In simple word, pass a instance variable to a class"
   ]
  },
  {
   "cell_type": "code",
   "execution_count": 10,
   "metadata": {
    "executionInfo": {
     "elapsed": 428,
     "status": "ok",
     "timestamp": 1731912821328,
     "user": {
      "displayName": "Md Masud Rana GUB",
      "userId": "14207477694270542702"
     },
     "user_tz": -360
    },
    "id": "mzIFiXb3-874"
   },
   "outputs": [],
   "source": [
    "# customer class\n",
    "class Customer:\n",
    "  def __init__(self, name, gender, address):\n",
    "    self.name = name\n",
    "    self.gender = gender\n",
    "    self.address = address\n",
    "\n",
    "  def print_address(self):\n",
    "    # here i am using _Address__city technique to use the private property of the address class\n",
    "    # or we can use getter method from Address class. write a get_city() inside Address class\n",
    "    print(self.address._Address__city, self.address.state, self.address.pin)"
   ]
  },
  {
   "cell_type": "code",
   "execution_count": 11,
   "metadata": {
    "colab": {
     "base_uri": "https://localhost:8080/"
    },
    "executionInfo": {
     "elapsed": 446,
     "status": "ok",
     "timestamp": 1731912824844,
     "user": {
      "displayName": "Md Masud Rana GUB",
      "userId": "14207477694270542702"
     },
     "user_tz": -360
    },
    "id": "cn1N8fFK_jTY",
    "outputId": "10198653-6f55-4831-96c3-a3b2c581b7a1"
   },
   "outputs": [
    {
     "name": "stdout",
     "output_type": "stream",
     "text": [
      "Dhaka Dhaka 1230\n"
     ]
    }
   ],
   "source": [
    "# simple variable\n",
    "name = \"Masud Rana\"\n",
    "gender = \"Male\"\n",
    "\n",
    "# comlex variable\n",
    "addres = \"Dhaka\" # it is not complete address. it requres more information like city, district etc\n",
    "\n",
    "# in this case we can create a class\n",
    "# note: if any property is private in this class.\n",
    "# and if we pass this address to customer class, the customer class will not access this value\n",
    "class Address:\n",
    "  def __init__(self, city, state, pin):\n",
    "    self.__city = city\n",
    "    self.state = state\n",
    "    self.pin = pin\n",
    "\n",
    "\n",
    "cus = Customer(\"Masud Rana\", \"male\", Address(\"Dhaka\", \"Dhaka\", 1230))\n",
    "cus.print_address()"
   ]
  },
  {
   "cell_type": "markdown",
   "metadata": {
    "id": "rlEF90udDYBP"
   },
   "source": [
    "# Aggregation class diagram in OOP in Python\n",
    "\n",
    "Structure of Customer class Diagram:\n",
    "\n",
    "---\n",
    "\n",
    "Customer\n",
    "\n",
    "---\n",
    "\n",
    "+name\n",
    "\n",
    "+gender\n",
    "\n",
    "+address -> Diagmond symbol -> Address class\n",
    "\n",
    "---\n",
    "\n",
    "+print_address()\n",
    "\n",
    "---\n",
    "\n",
    "\n",
    "\n",
    "Similarly draw the Address Class Diagram"
   ]
  }
 ],
 "metadata": {
  "colab": {
   "authorship_tag": "ABX9TyO91rBUWTiwpW3y6BybeJ4Z",
   "provenance": [],
   "toc_visible": true
  },
  "kernelspec": {
   "display_name": "base",
   "language": "python",
   "name": "python3"
  },
  "language_info": {
   "name": "python",
   "version": "3.12.7"
  }
 },
 "nbformat": 4,
 "nbformat_minor": 0
}
