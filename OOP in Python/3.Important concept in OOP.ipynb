{
 "cells": [
  {
   "cell_type": "markdown",
   "metadata": {
    "id": "wDJq4qMlMKXq"
   },
   "source": [
    "# Class Diagram\n",
    "Structure of class Diagram is\n",
    "\n",
    "1. Class Name\n",
    "2. Data property\n",
    "3. Methods or functions property\n",
    "\n",
    "Example of ATM Machine class. here - means private property and + means public property\n",
    "\n",
    "\n",
    "\n",
    "\n",
    "---\n",
    "\n",
    "ATM Machine\n",
    "\n",
    "---\n",
    "\n",
    "-pin\n",
    "\n",
    "+balance\n",
    "\n",
    "---\n",
    "\n",
    "-deposit()\n",
    "\n",
    "+withdraw()\n",
    "\n",
    "+check_balance()\n",
    "\n",
    "-create_pin()\n",
    "\n",
    "---"
   ]
  },
  {
   "cell_type": "markdown",
   "metadata": {
    "id": "6WCnjwxBNAfK"
   },
   "source": [
    "# Magic methods / Dunder Methods is OOP\n",
    "\n",
    "Structure: __methodName__\n",
    "\n",
    "we have already used this type of method in our ATM machine program. the magic methods was `__init__`. which was in class is a constructor method\n",
    "\n"
   ]
  },
  {
   "cell_type": "markdown",
   "metadata": {
    "id": "0Lkg3Q8mOOv6"
   },
   "source": [
    "# Concept of self in OOP\n",
    "self locate the class means it refer that class. self is the object that class.\n",
    "\n",
    "both self and obj of a class refer to the same memory location.\n",
    "\n",
    "self in python like this in java OOP\n"
   ]
  },
  {
   "cell_type": "markdown",
   "metadata": {
    "id": "FlGt1VS8P8p5"
   },
   "source": [
    "# How object access attribute in OOP"
   ]
  },
  {
   "cell_type": "code",
   "execution_count": 1,
   "metadata": {
    "colab": {
     "base_uri": "https://localhost:8080/"
    },
    "executionInfo": {
     "elapsed": 480,
     "status": "ok",
     "timestamp": 1731865935729,
     "user": {
      "displayName": "Md Masud Rana GUB",
      "userId": "14207477694270542702"
     },
     "user_tz": -360
    },
    "id": "nfxzU5zlMIeB",
    "outputId": "989969c6-7512-4d9c-8e32-da0d6629b95f"
   },
   "outputs": [
    {
     "name": "stdout",
     "output_type": "stream",
     "text": [
      "hello John, you are 36 years old\n",
      "John\n",
      "36\n"
     ]
    }
   ],
   "source": [
    "class Person:\n",
    "  def __init__(self, name, age):\n",
    "    self.name = name\n",
    "    self.age = age\n",
    "\n",
    "  def greets(self):\n",
    "    print(f\"hello {self.name}, you are {self.age} years old\")\n",
    "\n",
    "p1 = Person(\"John\", 36)\n",
    "p1.greets() # method access through object or instance of the class\n",
    "print(p1.name) # attribute access\n",
    "print(p1.age) # attribute acces\n"
   ]
  },
  {
   "cell_type": "code",
   "execution_count": 2,
   "metadata": {
    "colab": {
     "base_uri": "https://localhost:8080/"
    },
    "executionInfo": {
     "elapsed": 495,
     "status": "ok",
     "timestamp": 1731866064423,
     "user": {
      "displayName": "Md Masud Rana GUB",
      "userId": "14207477694270542702"
     },
     "user_tz": -360
    },
    "id": "JGPgnfXoQr1q",
    "outputId": "59600da2-bd2a-41b6-a489-766cbf3c59f1"
   },
   "outputs": [
    {
     "name": "stdout",
     "output_type": "stream",
     "text": [
      "male\n"
     ]
    }
   ],
   "source": [
    "# create attribute outside of a class\n",
    "p1.gender = \"male\"\n",
    "print(p1.gender)"
   ]
  },
  {
   "cell_type": "markdown",
   "metadata": {
    "id": "cvi7UoK6RLjp"
   },
   "source": [
    "# Reference Variable"
   ]
  },
  {
   "cell_type": "code",
   "execution_count": 12,
   "metadata": {
    "colab": {
     "base_uri": "https://localhost:8080/"
    },
    "executionInfo": {
     "elapsed": 467,
     "status": "ok",
     "timestamp": 1731866353816,
     "user": {
      "displayName": "Md Masud Rana GUB",
      "userId": "14207477694270542702"
     },
     "user_tz": -360
    },
    "id": "XtrAB-ckRNar",
    "outputId": "b1df02f2-7de7-427b-9aa9-34518b178728"
   },
   "outputs": [
    {
     "name": "stdout",
     "output_type": "stream",
     "text": [
      "John\n",
      "36\n",
      "138236092544144\n",
      "138236092544144\n",
      "36\n",
      "36\n"
     ]
    }
   ],
   "source": [
    "# person class\n",
    "class Person:\n",
    "  def __init__(self):\n",
    "    self.name = \"John\"\n",
    "    self.age = 36\n",
    "\n",
    "p1 = Person()\n",
    "print(p1.name)\n",
    "print(p1.age)\n",
    "\n",
    "print(id(p1)) # 138236094858528\n",
    "\n",
    "q = p1 # both poin to same reference\n",
    "print(id(q)) # 138236094858528\n",
    "\n",
    "# both will print same data. because both point to same object\n",
    "print(p1.age) # 36\n",
    "print(q.age) # 36"
   ]
  },
  {
   "cell_type": "markdown",
   "metadata": {
    "id": "dRh8-80TTr8J"
   },
   "source": [
    "# Pass by reference\n"
   ]
  },
  {
   "cell_type": "code",
   "execution_count": 16,
   "metadata": {
    "executionInfo": {
     "elapsed": 574,
     "status": "ok",
     "timestamp": 1731866999515,
     "user": {
      "displayName": "Md Masud Rana GUB",
      "userId": "14207477694270542702"
     },
     "user_tz": -360
    },
    "id": "C2q0wvGYTteZ"
   },
   "outputs": [],
   "source": [
    "# person class\n",
    "class Person:\n",
    "  def __init__(self):\n",
    "    self.name = \"John\"\n",
    "    self.age = 36\n",
    "\n",
    "\n",
    "def greets(person):\n",
    "  print(f\"hello {person.name}, you are {person.age} years old\")\n",
    "  p1 = Person() # return a reference object\n",
    "  return p1"
   ]
  },
  {
   "cell_type": "code",
   "execution_count": 17,
   "metadata": {
    "colab": {
     "base_uri": "https://localhost:8080/"
    },
    "executionInfo": {
     "elapsed": 737,
     "status": "ok",
     "timestamp": 1731867002191,
     "user": {
      "displayName": "Md Masud Rana GUB",
      "userId": "14207477694270542702"
     },
     "user_tz": -360
    },
    "id": "NMSPxSQMTzix",
    "outputId": "c2b63948-a965-4398-87c4-e685eb5da49f"
   },
   "outputs": [
    {
     "name": "stdout",
     "output_type": "stream",
     "text": [
      "hello John, you are 36 years old\n",
      "John\n",
      "36\n"
     ]
    }
   ],
   "source": [
    "# pass reference object to a function\n",
    "person = Person()\n",
    "res = greets(person)\n",
    "\n",
    "print(res.name)\n",
    "print(res.age)"
   ]
  },
  {
   "cell_type": "markdown",
   "metadata": {
    "id": "dhh8d4WsUXw5"
   },
   "source": [
    "# Mutability of Object in OOP"
   ]
  },
  {
   "cell_type": "code",
   "execution_count": 20,
   "metadata": {
    "colab": {
     "base_uri": "https://localhost:8080/"
    },
    "executionInfo": {
     "elapsed": 455,
     "status": "ok",
     "timestamp": 1731867196573,
     "user": {
      "displayName": "Md Masud Rana GUB",
      "userId": "14207477694270542702"
     },
     "user_tz": -360
    },
    "id": "rQj03HK8UZ6Z",
    "outputId": "0f4df3a3-c282-443b-b1b1-c46587057ccd"
   },
   "outputs": [
    {
     "name": "stdout",
     "output_type": "stream",
     "text": [
      "138236094859248\n",
      "hello John, you are 36 years old\n",
      "hello Jane, you are 37 years old\n",
      "Jane\n",
      "37\n",
      "138236094859248\n"
     ]
    }
   ],
   "source": [
    "# inside greet i am modify the passed person reference\n",
    "# it doesn't create any different object, it modify the original object\n",
    "def greet(person):\n",
    "  print(f\"hello {person.name}, you are {person.age} years old\")\n",
    "  person.age = 37 # change age to 37. as we had passed reference object of that class\n",
    "  person.name = \"Jane\"\n",
    "  print(f\"hello {person.name}, you are {person.age} years old\")\n",
    "\n",
    "p1 = Person()\n",
    "print(id(p1)) # 138236094859248\n",
    "\n",
    "greet(p1)\n",
    "print(p1.name)\n",
    "print(p1.age) # updated age is 37\n",
    "print(id(p1)) # 138236094859248"
   ]
  },
  {
   "cell_type": "markdown",
   "metadata": {
    "id": "y9vvefxlVbnp"
   },
   "source": [
    "# What is Instance Variable in OOP"
   ]
  },
  {
   "cell_type": "code",
   "execution_count": 22,
   "metadata": {
    "colab": {
     "base_uri": "https://localhost:8080/"
    },
    "executionInfo": {
     "elapsed": 488,
     "status": "ok",
     "timestamp": 1731867397069,
     "user": {
      "displayName": "Md Masud Rana GUB",
      "userId": "14207477694270542702"
     },
     "user_tz": -360
    },
    "id": "-eJ0l2q3Vdis",
    "outputId": "7af05646-898b-4191-cceb-f88498024d85"
   },
   "outputs": [
    {
     "name": "stdout",
     "output_type": "stream",
     "text": [
      "John\n",
      "Jane\n",
      "Jack\n",
      "138236092689488\n",
      "138236092680944\n",
      "138236092691792\n"
     ]
    }
   ],
   "source": [
    "# person class\n",
    "class Person:\n",
    "  def __init__(self, name, age):\n",
    "    self.name = name\n",
    "    self.age = age\n",
    "\n",
    "# creating three instance variable of this class\n",
    "p1 = Person(\"John\", 36)\n",
    "p2 = Person(\"Jane\", 30)\n",
    "p3 = Person(\"Jack\", 25)\n",
    "\n",
    "print(p1.name)\n",
    "print(p2.name)\n",
    "print(p3.name)\n",
    "\n",
    "\n",
    "print(id(p1))\n",
    "print(id(p2))\n",
    "print(id(p3))"
   ]
  }
 ],
 "metadata": {
  "colab": {
   "authorship_tag": "ABX9TyNaFFMInHoCepOnaoSjfHAQ",
   "provenance": [],
   "toc_visible": true
  },
  "kernelspec": {
   "display_name": "base",
   "language": "python",
   "name": "python3"
  },
  "language_info": {
   "name": "python",
   "version": "3.12.7"
  }
 },
 "nbformat": 4,
 "nbformat_minor": 0
}
