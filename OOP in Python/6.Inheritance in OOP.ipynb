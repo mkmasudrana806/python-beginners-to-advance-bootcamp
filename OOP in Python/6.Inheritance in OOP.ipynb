{
 "cells": [
  {
   "cell_type": "markdown",
   "metadata": {
    "id": "HtB9Fn3rxR3f"
   },
   "source": [
    "# Inheritance in Python OOP\n",
    "Parent class and child class relationship. child class holds all the properties of the parent class with extra properties of this child class itself.\n",
    "\n",
    "Inheritance allows us to define a class that inherits all the methods and properties fro another class. Parent class is the class being inherited from, also called base class. Child class is the class that inherits fro another class, also called derived class.\n",
    "\n",
    "Child class have access to these properties from it's parent class :-\n",
    "* non private attribute\n",
    "* not private methods\n",
    "\n",
    "\n"
   ]
  },
  {
   "cell_type": "code",
   "execution_count": 19,
   "metadata": {
    "executionInfo": {
     "elapsed": 737,
     "status": "ok",
     "timestamp": 1731926755662,
     "user": {
      "displayName": "Md Masud Rana GUB",
      "userId": "14207477694270542702"
     },
     "user_tz": -360
    },
    "id": "AND0KlulxP_G"
   },
   "outputs": [],
   "source": [
    "# User class\n",
    "class User: # parent class\n",
    "  def __init__(self):\n",
    "    self.name = \"Masud Rana\"\n",
    "    self.age = 23\n",
    "    self.gender = \"Male\"\n",
    "\n",
    "  def login(self):\n",
    "      print(\"Login \")\n",
    "\n",
    "  def register(self):\n",
    "      print('register')\n",
    "\n",
    "# Student class ( child class )\n",
    "class Student(User): # here passing the 'User' class to 'Student' means we have inherit the 'User' class\n",
    "  def __init__(self):\n",
    "    self.rollno = 12\n",
    "\n",
    "  def enroll(self):\n",
    "    print('enroll the course')\n",
    "\n",
    "\n",
    "# Instructor class\n",
    "class Instructor(User):\n",
    "  def __init__(self):\n",
    "    self.idno = 213\n",
    "\n",
    "  def create(self):\n",
    "    print('create a course')\n",
    "\n"
   ]
  },
  {
   "cell_type": "code",
   "execution_count": 13,
   "metadata": {
    "colab": {
     "base_uri": "https://localhost:8080/"
    },
    "executionInfo": {
     "elapsed": 498,
     "status": "ok",
     "timestamp": 1731926010936,
     "user": {
      "displayName": "Md Masud Rana GUB",
      "userId": "14207477694270542702"
     },
     "user_tz": -360
    },
    "id": "n8H4cokqzluQ",
    "outputId": "79cd94e3-76e2-4b7d-8ffe-0701a99bdf2c"
   },
   "outputs": [
    {
     "name": "stdout",
     "output_type": "stream",
     "text": [
      "enroll the course\n",
      "Login \n"
     ]
    }
   ],
   "source": [
    "s = Student()\n",
    "s.enroll()\n",
    "\n",
    "# accss the parent class methods from child class\n",
    "s.login()"
   ]
  },
  {
   "cell_type": "code",
   "execution_count": 21,
   "metadata": {
    "colab": {
     "base_uri": "https://localhost:8080/"
    },
    "executionInfo": {
     "elapsed": 620,
     "status": "ok",
     "timestamp": 1731926800830,
     "user": {
      "displayName": "Md Masud Rana GUB",
      "userId": "14207477694270542702"
     },
     "user_tz": -360
    },
    "id": "7Sqs-BAI0fs3",
    "outputId": "7dadb99d-0be1-4240-88f1-999057ef909e"
   },
   "outputs": [
    {
     "name": "stdout",
     "output_type": "stream",
     "text": [
      "register\n",
      "Login \n"
     ]
    }
   ],
   "source": [
    "# instructor instance variable\n",
    "I = Instructor()\n",
    "I.register() # access parent methods\n",
    "\n",
    "\n",
    "# also we can access parent methods by parent instance variable\n",
    "u = User()\n",
    "u.login()\n",
    "\n",
    "#\n",
    "s = Student()\n",
    "# s.name # gives error\n",
    "# becasue when we have created a 'Student' instance variable\n",
    "# it execute it's constructor 1st. it has the higher priority.\n",
    "# that's why inside Student constructor, there is no name attribute. therefor we got error\n",
    "\n",
    "\n",
    "# we can solved it by called super() inside child constructor.\n",
    "# or remove the the constructor of the 'Student' class. then the super class will be executed"
   ]
  },
  {
   "cell_type": "markdown",
   "metadata": {
    "id": "M2Rse4Ml4dIl"
   },
   "source": [
    "# What's get Inherited"
   ]
  },
  {
   "cell_type": "code",
   "execution_count": 23,
   "metadata": {
    "colab": {
     "base_uri": "https://localhost:8080/"
    },
    "executionInfo": {
     "elapsed": 448,
     "status": "ok",
     "timestamp": 1731926954770,
     "user": {
      "displayName": "Md Masud Rana GUB",
      "userId": "14207477694270542702"
     },
     "user_tz": -360
    },
    "id": "iqpSj05o5ApG",
    "outputId": "637142a6-ad54-404a-c75f-0cf48bbbb5f5"
   },
   "outputs": [
    {
     "name": "stdout",
     "output_type": "stream",
     "text": [
      "buy a phone\n"
     ]
    }
   ],
   "source": [
    "# parent constructor call\n",
    "\n",
    "# Phone class\n",
    "class Phone:\n",
    "  def __init__(self, price, brand, camera):\n",
    "    self.price = price\n",
    "    self.brand = brand\n",
    "    self.camera = camera\n",
    "\n",
    "  def buy(self):\n",
    "    print('buy a phone')\n",
    "\n",
    "class SmartPhone(Phone):\n",
    "  pass\n",
    "\n",
    "# as there is no constructor of the child class. that's why parent class constructor will execute\n",
    "s = SmartPhone(20000, 'Samsung', 13)\n",
    "s.buy()"
   ]
  },
  {
   "cell_type": "code",
   "execution_count": 24,
   "metadata": {
    "colab": {
     "base_uri": "https://localhost:8080/"
    },
    "executionInfo": {
     "elapsed": 458,
     "status": "ok",
     "timestamp": 1731927040741,
     "user": {
      "displayName": "Md Masud Rana GUB",
      "userId": "14207477694270542702"
     },
     "user_tz": -360
    },
    "id": "SmIZO55a5C-d",
    "outputId": "57418e78-941f-4e66-91a3-648348490dbf"
   },
   "outputs": [
    {
     "name": "stdout",
     "output_type": "stream",
     "text": [
      "inside child constructor\n",
      "buy a phone\n"
     ]
    }
   ],
   "source": [
    "# child constructor call\n",
    "\n",
    "# Phone class\n",
    "class Phone:\n",
    "  def __init__(self, price, brand, camera):\n",
    "    self.price = price\n",
    "    self.brand = brand\n",
    "    self.camera = camera\n",
    "    print('inside parent constructor')\n",
    "\n",
    "  def buy(self):\n",
    "    print('buy a phone')\n",
    "\n",
    "class SmartPhone(Phone):\n",
    "  def __init__(self, model):\n",
    "    self.model = model\n",
    "    print('inside child constructor')\n",
    "\n",
    "# as there is  constructor of the child class.it will be executed\n",
    "s = SmartPhone('M21')\n",
    "s.buy()"
   ]
  },
  {
   "cell_type": "code",
   "execution_count": 28,
   "metadata": {
    "colab": {
     "base_uri": "https://localhost:8080/"
    },
    "executionInfo": {
     "elapsed": 15,
     "status": "ok",
     "timestamp": 1731927399423,
     "user": {
      "displayName": "Md Masud Rana GUB",
      "userId": "14207477694270542702"
     },
     "user_tz": -360
    },
    "id": "ymmr2MDF5xZN",
    "outputId": "68b8f9aa-b346-46f4-b80c-660cb9052243"
   },
   "outputs": [
    {
     "name": "stdout",
     "output_type": "stream",
     "text": [
      "inside parent constructor\n",
      "inside child constructor\n"
     ]
    },
    {
     "data": {
      "text/plain": [
       "20000"
      ]
     },
     "execution_count": 28,
     "metadata": {},
     "output_type": "execute_result"
    }
   ],
   "source": [
    "# private property access from child class\n",
    "\n",
    "# Phone class\n",
    "class Phone:\n",
    "  def __init__(self, price, brand, camera):\n",
    "    self.__price = price\n",
    "    self.brand = brand\n",
    "    self.camera = camera\n",
    "    print('inside parent constructor')\n",
    "\n",
    "  def get_price(self):\n",
    "    return self.__price\n",
    "\n",
    "  def buy(self):\n",
    "    print('buy a phone')\n",
    "\n",
    "# SmartPhone class\n",
    "class SmartPhone(Phone):\n",
    "  def __init__(self, model):\n",
    "    super().__init__(20000, 'Samsung', 13) # execute super constructor\n",
    "    self.model = model\n",
    "    print('inside child constructor')\n",
    "\n",
    "# as there is  constructor of the child class.it will be executed\n",
    "s = SmartPhone('M21')\n",
    "# s.__price # it will gives error. because private property is not inherited from parent class.\n",
    "# write a getter method inside parent class then call that function\n",
    "\n",
    "s.get_price() # we access parent methods using child instance variable or object"
   ]
  },
  {
   "cell_type": "markdown",
   "metadata": {
    "id": "YAHEWq-xQnpF"
   },
   "source": [
    "# Super keyword in OOP"
   ]
  },
  {
   "cell_type": "code",
   "execution_count": 31,
   "metadata": {
    "colab": {
     "base_uri": "https://localhost:8080/",
     "height": 105
    },
    "executionInfo": {
     "elapsed": 476,
     "status": "ok",
     "timestamp": 1731933349477,
     "user": {
      "displayName": "Md Masud Rana GUB",
      "userId": "14207477694270542702"
     },
     "user_tz": -360
    },
    "id": "PGLAldgdQrv1",
    "outputId": "aa949097-d5c8-412a-8905-f234354246ad"
   },
   "outputs": [
    {
     "name": "stdout",
     "output_type": "stream",
     "text": [
      "inside child constructor\n",
      "buy a phone\n",
      "inside parent constructor\n",
      "inside child constructor\n"
     ]
    },
    {
     "data": {
      "application/vnd.google.colaboratory.intrinsic+json": {
       "type": "string"
      },
      "text/plain": [
       "'blue'"
      ]
     },
     "execution_count": 31,
     "metadata": {},
     "output_type": "execute_result"
    }
   ],
   "source": [
    "\n",
    "# Phone class\n",
    "class Phone:\n",
    "  def __init__(self, price, brand, camera):\n",
    "    self.__price = price\n",
    "    self.brand = brand\n",
    "    self.camera = camera\n",
    "    print('inside parent constructor')\n",
    "\n",
    "  def get_price(self):\n",
    "    return self.__price\n",
    "\n",
    "  def buy(self):\n",
    "    print('buy a phone')\n",
    "\n",
    "# SmartPhone class\n",
    "class SmartPhone(Phone):\n",
    "  def __init__(self, model):\n",
    "    self.model = model\n",
    "    print('inside child constructor')\n",
    "    super().buy() # super class method called\n",
    "\n",
    "\n",
    "# ButtonPhone class\n",
    "class ButtonPhone(Phone):\n",
    "  def __init__(self, price, brand, camera, color):\n",
    "    super().__init__(price, brand, camera)\n",
    "    self.color = color\n",
    "    print('inside child constructor')\n",
    "\n",
    "\n",
    "s = SmartPhone('M21')\n",
    "b = ButtonPhone(234, 'Samsung', '48MP', 'blue')\n",
    "b.color\n"
   ]
  },
  {
   "cell_type": "markdown",
   "metadata": {
    "id": "vf4jV2EASUhm"
   },
   "source": [
    "# Type of Inheritance in OOP in Python\n",
    "* Single level Inheritance\n",
    "\n",
    "a child class inherit a parent class\n",
    "\n",
    "example: B -> A. here B inherit A.\n",
    "\n",
    "* Multilevel Inheritance\n",
    "\n",
    "multilevel child inherit a single parent\n",
    "\n",
    "example: B -> A, C -> B, C -> A\n",
    "\n",
    "* Hierarchical Inheritance\n",
    "\n",
    "a single child inherit multiple parent\n",
    "\n",
    "example: c -> A, C -> B\n",
    "\n",
    "* Multiple Inheritance\n",
    "\n",
    "multiple child inherit same parent at the same level. there is no multi level inherit"
   ]
  },
  {
   "cell_type": "markdown",
   "metadata": {
    "id": "6QjXKPlUUgSN"
   },
   "source": [
    "# Mutilevel Inheritance"
   ]
  },
  {
   "cell_type": "code",
   "execution_count": 33,
   "metadata": {
    "colab": {
     "base_uri": "https://localhost:8080/"
    },
    "executionInfo": {
     "elapsed": 448,
     "status": "ok",
     "timestamp": 1731934149901,
     "user": {
      "displayName": "Md Masud Rana GUB",
      "userId": "14207477694270542702"
     },
     "user_tz": -360
    },
    "id": "oJXvVYTaTniW",
    "outputId": "9d8f7588-3b8f-4fb2-9216-f78c49729c61"
   },
   "outputs": [
    {
     "name": "stdout",
     "output_type": "stream",
     "text": [
      "product review\n",
      "buy a phone\n",
      "smartphone review\n"
     ]
    }
   ],
   "source": [
    "# Multilevel inheritance\n",
    "\n",
    "# Product class\n",
    "class Product:\n",
    "  def review(self):\n",
    "    print('product review')\n",
    "\n",
    "# Phone class\n",
    "class Phone(Product):\n",
    "  def __init__(self, price, brand, camera):\n",
    "    self.price = price\n",
    "    self.brand = brand\n",
    "    self.camera = camera\n",
    "\n",
    "  def buy(self):\n",
    "    print('buy a phone')\n",
    "\n",
    "# SmartPhone class\n",
    "class SmartPhone(Phone):\n",
    "  def __init__(self, model):\n",
    "    self.model = model\n",
    "\n",
    "\n",
    "  def smartphone_review(self):\n",
    "    print('smartphone review')\n",
    "\n",
    "\n",
    "\n",
    "S = SmartPhone('M21')\n",
    "S.review() # 1st level parent call\n",
    "S.buy() # 2nd level parent called\n",
    "S.smartphone_review() # child called\n"
   ]
  },
  {
   "cell_type": "markdown",
   "metadata": {
    "id": "QfTTyvwMUjl9"
   },
   "source": [
    "# Hierarchical Inheritance"
   ]
  },
  {
   "cell_type": "code",
   "execution_count": 34,
   "metadata": {
    "colab": {
     "base_uri": "https://localhost:8080/"
    },
    "executionInfo": {
     "elapsed": 467,
     "status": "ok",
     "timestamp": 1731934278055,
     "user": {
      "displayName": "Md Masud Rana GUB",
      "userId": "14207477694270542702"
     },
     "user_tz": -360
    },
    "id": "l95RLGMOUrFA",
    "outputId": "742a419b-a879-4d38-acd9-95a1523ee99e"
   },
   "outputs": [
    {
     "name": "stdout",
     "output_type": "stream",
     "text": [
      "product review\n",
      "product review\n"
     ]
    }
   ],
   "source": [
    "# Multilevel inheritance\n",
    "\n",
    "# Product class\n",
    "class Product:\n",
    "  def review(self):\n",
    "    print('product review')\n",
    "\n",
    "# ButtonPhone class\n",
    "class ButtonPhone(Product):\n",
    "  def __init__(self, price, brand, camera):\n",
    "    self.price = price\n",
    "    self.brand = brand\n",
    "    self.camera = camera\n",
    "\n",
    "  def buy(self):\n",
    "    print('buy a phone')\n",
    "\n",
    "# SmartPhone class\n",
    "class SmartPhone(Product):\n",
    "  def __init__(self, model):\n",
    "    self.model = model\n",
    "\n",
    "  def smartphone_review(self):\n",
    "    print('smartphone review')\n",
    "\n",
    "\n",
    "\n",
    "S = SmartPhone('M21')\n",
    "S.review() # parent of SmartPhone call\n",
    "\n",
    "B = ButtonPhone(234, 'Samsung', '48MP')\n",
    "B.review() # parent of ButtonPhone call\n",
    "\n"
   ]
  },
  {
   "cell_type": "markdown",
   "metadata": {
    "id": "tRfn4AHdVAzm"
   },
   "source": [
    "# Multiple inheritance"
   ]
  },
  {
   "cell_type": "code",
   "execution_count": 40,
   "metadata": {
    "colab": {
     "base_uri": "https://localhost:8080/"
    },
    "executionInfo": {
     "elapsed": 568,
     "status": "ok",
     "timestamp": 1731934503703,
     "user": {
      "displayName": "Md Masud Rana GUB",
      "userId": "14207477694270542702"
     },
     "user_tz": -360
    },
    "id": "x1NcddRjVCn9",
    "outputId": "32a2ebee-d49d-4273-8e8d-8e0722426376"
   },
   "outputs": [
    {
     "name": "stdout",
     "output_type": "stream",
     "text": [
      "this is child class\n",
      "this is father method\n",
      "this is mother method\n"
     ]
    }
   ],
   "source": [
    "# multiple inheritance using mother, father, child\n",
    "class Father:\n",
    "  def __init__(self):\n",
    "    print('this is father class')\n",
    "\n",
    "  def father_method(self):\n",
    "    print('this is father method')\n",
    "\n",
    "class Mother:\n",
    "  def __init__(self):\n",
    "    print('this is mother class')\n",
    "\n",
    "  def mother_method(self):\n",
    "    print('this is mother method')\n",
    "\n",
    "class Child(Father, Mother):\n",
    "  def __init__(self):\n",
    "    print('this is child class')\n",
    "\n",
    "  def child_method(self):\n",
    "    print('this is child method')\n",
    "\n",
    "c = Child()\n",
    "c.father_method()\n",
    "c.mother_method()"
   ]
  }
 ],
 "metadata": {
  "colab": {
   "authorship_tag": "ABX9TyNxso223xTe4V+rb9ELBuI0",
   "provenance": [],
   "toc_visible": true
  },
  "kernelspec": {
   "display_name": "base",
   "language": "python",
   "name": "python3"
  },
  "language_info": {
   "name": "python",
   "version": "3.12.7"
  }
 },
 "nbformat": 4,
 "nbformat_minor": 0
}
