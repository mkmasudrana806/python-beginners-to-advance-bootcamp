{
 "cells": [
  {
   "cell_type": "markdown",
   "metadata": {
    "id": "Zezi82RRWiHx"
   },
   "source": [
    "# Encapsulation\n",
    "\n",
    "Encapsulation is a fundamental object-oriented principle in Python. it protects your class from accidental changes or deletions and promotes code reusability and maintability"
   ]
  },
  {
   "cell_type": "markdown",
   "metadata": {
    "id": "bkFf7O9Frk52"
   },
   "source": [
    "# static property\n",
    "static property belong to class. static variable create global memory location. all instance variable have the access to it.\n",
    "\n",
    "all other variable maintain their own object memory location. each indivisual maitain their own memory location\n",
    "\n"
   ]
  },
  {
   "cell_type": "code",
   "execution_count": 1,
   "metadata": {
    "executionInfo": {
     "elapsed": 703,
     "status": "ok",
     "timestamp": 1731873379137,
     "user": {
      "displayName": "Md Masud Rana GUB",
      "userId": "14207477694270542702"
     },
     "user_tz": -360
    },
    "id": "rgxftNneWeDQ"
   },
   "outputs": [],
   "source": [
    "# ------------- ATM Machine class -------------\n",
    "# use __propertyName or __methodsName to make property or methods as private\n",
    "class AtmMachine:\n",
    "  customerId = 0 # static variable belong to class. that is why i am writing outside of the constructor\n",
    "  # we can write private static variable\n",
    "  __customerId = 0 # private static variable.\n",
    "\n",
    "\n",
    "  # constructor function. all the data property need to write inside constructor\n",
    "  # self define it is AtmMachine class\n",
    "  def __init__(self) -> None:\n",
    "    self.pin = \"\"\n",
    "    self.__balance = 0 # private property\n",
    "    self.customerId = AtmMachine.customerId + 1\n",
    "    AtmMachine.customerId = self.customerId\n",
    "    self.__customerId = AtmMachine.__customerId + 1\n",
    "    AtmMachine.__customerId = self.__customerId\n",
    "    self.menu()\n",
    "\n",
    "  # menu method of this class\n",
    "  def menu(self):\n",
    "    user_input = input(\"\"\"\n",
    "    Hello, How would you like to proceed?\n",
    "    1. Enter 1 to create pin\n",
    "    2. Enter 2 to deposit\n",
    "    3. Enter 3 to withdraw\n",
    "    4. Enter 4 to check balance\n",
    "    5. Enter 5 to change pin\n",
    "    \"\"\")\n",
    "    if user_input == \"1\":\n",
    "      # create a pin\n",
    "      self.create_pin()\n",
    "\n",
    "    elif user_input == \"2\":\n",
    "      # deposit\n",
    "      self.deposit()\n",
    "\n",
    "    elif user_input == \"3\":\n",
    "      # withdraw\n",
    "      self.withdraw()\n",
    "\n",
    "    elif user_input == \"4\":\n",
    "      # check balance\n",
    "      self.check_balance()\n",
    "\n",
    "    elif user_input == \"5\":\n",
    "      # change pin\n",
    "      self.change_pin()\n",
    "\n",
    "    else:\n",
    "      print(\"Invalid input\")\n",
    "\n",
    "\n",
    "  # get balance\n",
    "  @property\n",
    "  def get_balance(self):\n",
    "    return self.__balance\n",
    "\n",
    "  # set balance\n",
    "  def set_balance(self, new_value):\n",
    "    if type(new_value) == int or type(new_value) == float:\n",
    "      self.__balance = new_value\n",
    "    else:\n",
    "      print(\"Balance cannot be without int\")\n",
    "\n",
    "\n",
    "  # create pin method\n",
    "  def create_pin(self):\n",
    "    self.pin = input(\"Enter your pin: \")\n",
    "    print(\"Pin set successfully\")\n",
    "\n",
    "    self.__balance = int(input(\"Enter your balance: \"))\n",
    "    print(\"Balance set successfully\")\n",
    "\n",
    "    print(\"Pin created successfully\")\n",
    "    self.menu()\n",
    "\n",
    "\n",
    "  # change pin method\n",
    "  def change_pin(self):\n",
    "    old_pin = input(\"Enter old pin: \")\n",
    "\n",
    "    if old_pin == self.pin:\n",
    "      new_pin = input(\"Enter new pin: \")\n",
    "      self.pin = new_pin\n",
    "      print(\"Pin changed successfully\")\n",
    "    else:\n",
    "      print(\"Invalid pin\")\n",
    "    self.menu()\n",
    "\n",
    "\n",
    "\n",
    "  # deposit method\n",
    "  def deposit(self):\n",
    "    user_pin = input(\"Enter pin: \")\n",
    "    if user_pin == self.pin:\n",
    "      amount = int(input(\"Enter amount: \"))\n",
    "      self.__balance = self.__balance + amount\n",
    "      print(\"Deposit successfully\")\n",
    "    else:\n",
    "      print(\"Invalid pin\")\n",
    "    self.menu()\n",
    "\n",
    "\n",
    "  # withdraw method\n",
    "  def withdraw(self):\n",
    "    user_pin = input(\"Enter your pin: \")\n",
    "    if user_pin == self.pin:\n",
    "      amount = int(input(\"Enter amount: \"))\n",
    "      if amount <= self.__balance:\n",
    "        self.__balance = self.__balance - amount\n",
    "        print(\"Withdraw successfully\")\n",
    "      else:\n",
    "        print(\"Insufficient balance\")\n",
    "    else:\n",
    "      print(\"Invalid pin\")\n",
    "    self.menu()\n",
    "\n",
    "\n",
    "  # check balance method\n",
    "  def check_balance(self):\n",
    "    user_pin = input(\"Enter your pin: \")\n",
    "    if user_pin == self.pin:\n",
    "      print(\"Your balance is: \", self.__balance)\n",
    "    else:\n",
    "      print(\"Invalid pin\")\n",
    "    self.menu()"
   ]
  },
  {
   "cell_type": "code",
   "execution_count": 3,
   "metadata": {
    "colab": {
     "base_uri": "https://localhost:8080/",
     "height": 540
    },
    "executionInfo": {
     "elapsed": 4670,
     "status": "error",
     "timestamp": 1731873482172,
     "user": {
      "displayName": "Md Masud Rana GUB",
      "userId": "14207477694270542702"
     },
     "user_tz": -360
    },
    "id": "vF2EMnsKh_KH",
    "outputId": "2dcf28e7-546a-4a7a-c813-9f8bb3536fc8"
   },
   "outputs": [
    {
     "name": "stdout",
     "output_type": "stream",
     "text": [
      "\n",
      "    Hello, How would you like to proceed?\n",
      "    1. Enter 1 to create pin\n",
      "    2. Enter 2 to deposit\n",
      "    3. Enter 3 to withdraw\n",
      "    4. Enter 4 to check balance\n",
      "    5. Enter 5 to change pin\n",
      "    \n",
      "Invalid input\n",
      "20000\n",
      "balance is:  10324324\n",
      "balance is:  90000000000\n",
      "\n",
      "    Hello, How would you like to proceed?\n",
      "    1. Enter 1 to create pin\n",
      "    2. Enter 2 to deposit\n",
      "    3. Enter 3 to withdraw\n",
      "    4. Enter 4 to check balance\n",
      "    5. Enter 5 to change pin\n",
      "    \n",
      "Invalid input\n"
     ]
    },
    {
     "ename": "AttributeError",
     "evalue": "type object 'AtmMachine' has no attribute '_customerId'",
     "output_type": "error",
     "traceback": [
      "\u001b[0;31m---------------------------------------------------------------------------\u001b[0m",
      "\u001b[0;31mAttributeError\u001b[0m                            Traceback (most recent call last)",
      "\u001b[0;32m<ipython-input-3-4cfae5049808>\u001b[0m in \u001b[0;36m<cell line: 37>\u001b[0;34m()\u001b[0m\n\u001b[1;32m     35\u001b[0m \u001b[0;31m# static variable\u001b[0m\u001b[0;34m\u001b[0m\u001b[0;34m\u001b[0m\u001b[0m\n\u001b[1;32m     36\u001b[0m \u001b[0mobj\u001b[0m \u001b[0;34m=\u001b[0m \u001b[0mAtmMachine\u001b[0m\u001b[0;34m(\u001b[0m\u001b[0;34m)\u001b[0m\u001b[0;34m\u001b[0m\u001b[0;34m\u001b[0m\u001b[0m\n\u001b[0;32m---> 37\u001b[0;31m \u001b[0mprint\u001b[0m\u001b[0;34m(\u001b[0m\u001b[0mAtmMachine\u001b[0m\u001b[0;34m.\u001b[0m\u001b[0m_customerId\u001b[0m\u001b[0;34m)\u001b[0m \u001b[0;31m# access static variable using className\u001b[0m\u001b[0;34m\u001b[0m\u001b[0;34m\u001b[0m\u001b[0m\n\u001b[0m",
      "\u001b[0;31mAttributeError\u001b[0m: type object 'AtmMachine' has no attribute '_customerId'"
     ]
    }
   ],
   "source": [
    "# change the balance from outside of the class\n",
    "obj = AtmMachine()\n",
    "obj.balance  = 20000\n",
    "print(obj.balance) # 20000\n",
    "\n",
    "# but in real life, some property should not change out side of the class.\n",
    "# in this case we need to define private variable\n",
    "# __variableName is the syntax of private property written above class\n",
    "# private variable modification is not possible from outside of the class\n",
    "\n",
    "# access private variable: _className__propertyName\n",
    "obj._AtmMachine__balance\n",
    "\n",
    "# Note: nothing is too private things in python\n",
    "# Python OOP is for adults programmer\n",
    "# because we can change the private value as well\n",
    "\n",
    "# as we know that, in memory private property store in this way: _className__propertyName\n",
    "# so we can change using that memory representation\n",
    "obj._AtmMachine__balance = 10324324\n",
    "\n",
    "obj._AtmMachine__balance # 10324324\n",
    "\n",
    "\n",
    "# access balance using getting method\n",
    "print('balance is: ', obj.get_balance)\n",
    "\n",
    "# setter method access\n",
    "obj.set_balance(90000000000)\n",
    "\n",
    "print('balance is: ', obj.get_balance)\n",
    "\n",
    "\n",
    "\n",
    "# static variable\n",
    "obj = AtmMachine()\n",
    "print(AtmMachine._customerId) # access static variable using className\n"
   ]
  },
  {
   "cell_type": "markdown",
   "metadata": {
    "id": "k6hMy5d1o0DG"
   },
   "source": [
    "# Collection of class objects in OOP is stored in list data structure"
   ]
  },
  {
   "cell_type": "code",
   "execution_count": 20,
   "metadata": {
    "colab": {
     "base_uri": "https://localhost:8080/"
    },
    "executionInfo": {
     "elapsed": 7451,
     "status": "ok",
     "timestamp": 1731872512972,
     "user": {
      "displayName": "Md Masud Rana GUB",
      "userId": "14207477694270542702"
     },
     "user_tz": -360
    },
    "id": "kzpO7POvo5wm",
    "outputId": "036287e6-b2c7-49b3-910b-5b78c66dc54e"
   },
   "outputs": [
    {
     "name": "stdout",
     "output_type": "stream",
     "text": [
      "\n",
      "    Hello, How would you like to proceed?\n",
      "    1. Enter 1 to create pin\n",
      "    2. Enter 2 to deposit\n",
      "    3. Enter 3 to withdraw\n",
      "    4. Enter 4 to check balance\n",
      "    5. Enter 5 to change pin\n",
      "    \n",
      "Invalid input\n",
      "\n",
      "    Hello, How would you like to proceed?\n",
      "    1. Enter 1 to create pin\n",
      "    2. Enter 2 to deposit\n",
      "    3. Enter 3 to withdraw\n",
      "    4. Enter 4 to check balance\n",
      "    5. Enter 5 to change pin\n",
      "    \n",
      "Invalid input\n",
      "\n",
      "    Hello, How would you like to proceed?\n",
      "    1. Enter 1 to create pin\n",
      "    2. Enter 2 to deposit\n",
      "    3. Enter 3 to withdraw\n",
      "    4. Enter 4 to check balance\n",
      "    5. Enter 5 to change pin\n",
      "    \n",
      "Invalid input\n",
      "[<__main__.AtmMachine object at 0x7f995972a8c0>, <__main__.AtmMachine object at 0x7f995972b220>, <__main__.AtmMachine object at 0x7f995972ad40>]\n",
      "0\n",
      "0\n",
      "0\n"
     ]
    }
   ],
   "source": [
    "obj1 = AtmMachine()\n",
    "obj2 = AtmMachine()\n",
    "obj3 = AtmMachine()\n",
    "\n",
    "L = [obj1, obj2, obj3]\n",
    "\n",
    "print(L) # give object iterator\n",
    "\n",
    "for i in L:\n",
    "  print(i.get_balance)\n",
    "\n",
    "\n"
   ]
  }
 ],
 "metadata": {
  "colab": {
   "authorship_tag": "ABX9TyN2fDL5xJQJVHPUtMrO3fuN",
   "provenance": [],
   "toc_visible": true
  },
  "kernelspec": {
   "display_name": "base",
   "language": "python",
   "name": "python3"
  },
  "language_info": {
   "name": "python",
   "version": "3.12.7"
  }
 },
 "nbformat": 4,
 "nbformat_minor": 0
}
