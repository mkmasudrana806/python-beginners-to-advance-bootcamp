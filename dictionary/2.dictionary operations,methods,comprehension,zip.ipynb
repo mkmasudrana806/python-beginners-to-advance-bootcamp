{
 "cells": [
  {
   "cell_type": "markdown",
   "metadata": {},
   "source": [
    "# Dictionary operations\n",
    "* Membership\n",
    "* Iteration"
   ]
  },
  {
   "cell_type": "code",
   "execution_count": 1,
   "metadata": {},
   "outputs": [
    {
     "name": "stdout",
     "output_type": "stream",
     "text": [
      "True\n",
      "False\n",
      "False\n",
      "True\n",
      "name = Masud Rana\n",
      "age = 24\n",
      "country = Bangladesh\n"
     ]
    }
   ],
   "source": [
    "# membership operations\n",
    "# Note: membership opertion possible on key, not value\n",
    "person = {'name': 'Masud Rana', 'age': 24, 'country': 'Bangladesh'}\n",
    "print('name' in person) # True. because key is present\n",
    "print('Masud' in person) # False. because value now perform anythin in membership operations\n",
    "print('age' not in person) # False. because key is present\n",
    "print('Masud' not in person) # True. because value is not present\n",
    "\n",
    "\n",
    "# iteration\n",
    "for item in person:\n",
    "    print(item, '=', person[item])\n",
    "\n"
   ]
  },
  {
   "cell_type": "markdown",
   "metadata": {},
   "source": [
    "# Dictionary methods\n",
    "common methods are\n",
    "* len\n",
    "* max\n",
    "* min\n",
    "* sorted"
   ]
  },
  {
   "cell_type": "code",
   "execution_count": 2,
   "metadata": {},
   "outputs": [
    {
     "name": "stdout",
     "output_type": "stream",
     "text": [
      "3\n",
      "name\n",
      "age\n",
      "['age', 'country', 'name']\n"
     ]
    }
   ],
   "source": [
    "# common methods apply in dictionary\n",
    "person = {'name': 'Masud Rana', 'age': 24, 'country': 'Bangladesh'}\n",
    "print(len(person)) # 3 ( 3 keys )\n",
    "\n",
    "# It will print 'name' because 'n' has a higher ASCII value than 'a' (from 'age') or 'c' (from 'country').\n",
    "print(max(person)) # name ( based on asci value )\n",
    "\n",
    "#It will print 'age' because 'n' has a lower ASCII value than 'n' (from 'name') or 'g' (from 'gender').\n",
    "print(min(person)) # age ( based on asci value )\n",
    "\n",
    "print(sorted(person)) # ['age', 'country', 'name'] it sort ascending order of the keys only. not value\n"
   ]
  },
  {
   "cell_type": "markdown",
   "metadata": {},
   "source": [
    "# dictionary methods\n",
    "* items : return a list of tuple\n",
    "* keys: return all keys as list\n",
    "* values : return all values as list\n",
    "* update"
   ]
  },
  {
   "cell_type": "code",
   "execution_count": 3,
   "metadata": {},
   "outputs": [
    {
     "name": "stdout",
     "output_type": "stream",
     "text": [
      "dict_items([('name', 'Masud Rana'), ('age', 24), ('country', 'Bangladesh')])\n",
      "dict_keys(['name', 'age', 'country'])\n",
      "dict_values(['Masud Rana', 24, 'Bangladesh'])\n",
      "{1: 2, 3: 4, 4: 7, 6: 8}\n"
     ]
    }
   ],
   "source": [
    "# d.items() return dict_items list key-value pair inside tuple\n",
    "person = {'name': 'Masud Rana', 'age': 24, 'country': 'Bangladesh'}\n",
    "print(person.items()) # dict_items([('name', 'Masud Rana'), ('age', 24), ('country', 'Bangladesh')])\n",
    "\n",
    "# d.keys()\n",
    "print(person.keys()) # dict_keys(['name', 'age', 'country'])\n",
    "\n",
    "# d.values()\n",
    "print(person.values()) # dict_values(['Masud Rana', 24, 'Bangladesh'])\n",
    "\n",
    "# d.update()\n",
    "d1 = {1:2, 3: 4, 4:5}\n",
    "d2 = {4:7, 6:8}\n",
    "d1.update(d2) # update 4:5 with 4:7 and add 6:8 to the d1\n",
    "\n",
    "print(d1) # {1: 2, 3: 4, 4: 7, 6: 8}\n",
    "\n",
    "\n"
   ]
  },
  {
   "cell_type": "markdown",
   "metadata": {},
   "source": [
    "# Dictionary comprehension"
   ]
  },
  {
   "cell_type": "code",
   "execution_count": 4,
   "metadata": {},
   "outputs": [
    {
     "name": "stdout",
     "output_type": "stream",
     "text": [
      "{1: 1, 2: 4, 3: 9, 4: 16, 5: 25, 6: 36, 7: 49, 8: 64, 9: 81, 10: 100}\n",
      "{'phone': 10, 'tablet': 5, 'keyboard': 2}\n",
      "{'a': 1, 'b': 2, 'c': 3}\n"
     ]
    }
   ],
   "source": [
    "# dictionary comprehension\n",
    "# syntax: {key: value for item in iterator}\n",
    "\n",
    "# print 1st 10 numbers and their squares\n",
    "res = {i: i**2 for i in range(1, 11)}\n",
    "print(res) # {1: 1, 2: 4, 3: 9, 4: 16, 5: 25, 6: 36, 7: 49, 8: 64, 9: 81, 10: 100}\n",
    "\n",
    "# print products have not 0 value\n",
    "products = {'phone': 10, 'laptop': 0, 'tablet': 5, 'keyboard': 2}\n",
    "result = { key: value for (key, value) in products.items() if value != 0}\n",
    "print(result) # {'phone': 10, 'tablet': 5, 'keyboard': 2}\n",
    "\n",
    "# zip ( make dictionary)\n",
    "keys = ['a', 'b', 'c']\n",
    "values = [1, 2, 3]\n",
    "d = {k: v for (k, v) in zip(keys, values)}\n",
    "print(d)"
   ]
  }
 ],
 "metadata": {
  "kernelspec": {
   "display_name": "base",
   "language": "python",
   "name": "python3"
  },
  "language_info": {
   "codemirror_mode": {
    "name": "ipython",
    "version": 3
   },
   "file_extension": ".py",
   "mimetype": "text/x-python",
   "name": "python",
   "nbconvert_exporter": "python",
   "pygments_lexer": "ipython3",
   "version": "3.12.7"
  }
 },
 "nbformat": 4,
 "nbformat_minor": 2
}
