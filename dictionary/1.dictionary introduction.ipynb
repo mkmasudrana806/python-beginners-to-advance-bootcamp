{
 "cells": [
  {
   "cell_type": "markdown",
   "metadata": {},
   "source": [
    "# Dictionary\n",
    "Dictionary in Python is a collection of keys values, used ot store data values like a map, which, unlike other data types which hold only a single value as an element.\n",
    "\n",
    "In some languages it is known as map or associative arrays.\n",
    "\n",
    "example: `dict = {'name': 'Masud Rana', 'age': 23, 'gender': 'male'}`\n",
    "\n",
    "Characteristics\n",
    "* Mutable\n",
    "* Indexing has no meaning\n",
    "* keys can't be duplicated\n",
    "* Keys can't be mutable items\n"
   ]
  },
  {
   "cell_type": "code",
   "execution_count": 1,
   "metadata": {},
   "outputs": [
    {
     "name": "stdout",
     "output_type": "stream",
     "text": [
      "{}\n",
      "{'name': 'Masud Rana', 'age': 23, 'gender': 'male'}\n",
      "{'name': 'Masud Rana', (1, 2, 3): '100', 1: '1000', 'skils': ['C', 'C++', 'Java', 'JavaScript', 'Python', 'SQL']}\n",
      "{'name': 'Masud Rana', 'age': 23, 'gender': 'male', 'marsk': {'DSA': 'A+', 'DB': 'A+', 'Artificial Intelligence': 'A+'}}\n",
      "{'name': 'masud', 'age': 23, 'gender': 'male'}\n",
      "{'name': 'masud rana', 'age': 23, 'gender': 'male'}\n"
     ]
    }
   ],
   "source": [
    "# empty dictionary\n",
    "d = {}\n",
    "print(d) # {}\n",
    "\n",
    "# 1D dictionary\n",
    "d1 = {'name': 'Masud Rana', 'age': 23, 'gender': 'male'}\n",
    "print(d1)\n",
    "\n",
    "#  mixed dictionary ( different data types as key)\n",
    "# note: here tuple immutable, that's why we can use tuple as key\n",
    "d2 = {'name': 'Masud Rana', (1,2,3): '100', 1: '1000', 'skils': ['C', 'C++', 'Java', 'JavaScript', 'Python', 'SQL']}\n",
    "print(d2)\n",
    "\n",
    "# nested or 2D dictionary\n",
    "person = {\n",
    "    'name': 'Masud Rana',\n",
    "    'age': 23,\n",
    "    'gender': 'male',\n",
    "    'marsk': {\n",
    "        'DSA': 'A+',\n",
    "        'DB': 'A+',\n",
    "        'Artificial Intelligence': 'A+',\n",
    "    }\n",
    "}\n",
    "print(person)\n",
    "\n",
    "# create dictionary using dict constructor\n",
    "# write each key value pair inside a tuple.\n",
    "d = dict([('name', 'masud'), ('age', 23), ('gender', 'male')])\n",
    "print(d)\n",
    "\n",
    "# duplicate key behaviour\n",
    "d = {'name': 'masud', 'age': 23, 'gender': 'male', 'name': 'masud rana'}\n",
    "print(d) # {'name': 'masud rana', 'age': 23, 'gender': 'male'} it takes the latest key\n",
    "\n",
    "# mutable item as key (gives error)\n",
    "# d = {[1,2,3]: 'value'} # here key [1, 2, 3] list is mutable. but not allowed\n",
    "# print(d)"
   ]
  },
  {
   "cell_type": "markdown",
   "metadata": {},
   "source": [
    "# Access items"
   ]
  },
  {
   "cell_type": "code",
   "execution_count": 2,
   "metadata": {},
   "outputs": [
    {
     "name": "stdout",
     "output_type": "stream",
     "text": [
      "Masud Rana\n",
      "23\n",
      "gender\n",
      "A+\n"
     ]
    }
   ],
   "source": [
    "# access items using key ( index access not possible as earlier said )\n",
    "d = {'name': 'Masud Rana', 'age': 23, 'male': 'gender'}\n",
    "# print(d[0]) # gives error\n",
    "print(d['name']) # Masud Rana\n",
    "print(d['age']) # 23\n",
    "print(d['male']) # gender\n",
    "\n",
    "\n",
    "# nested item access\n",
    "# access DSA mark of this person\n",
    "person = {\n",
    "    'name': 'Masud Rana',\n",
    "    'age': 23,\n",
    "    'gender': 'male',\n",
    "    'marks': {\n",
    "        'DSA': 'A+',\n",
    "        'DB': 'A+',\n",
    "        'Artificial Intelligence': 'A+',\n",
    "    }\n",
    "}\n",
    "\n",
    "print(person[\"marks\"][\"DSA\"]) # A+\n",
    "\n"
   ]
  },
  {
   "cell_type": "markdown",
   "metadata": {},
   "source": [
    "# Adding key-value pair to dictionary\n",
    "* adding key-value pair\n",
    "* update value\n",
    "* remove key"
   ]
  },
  {
   "cell_type": "code",
   "execution_count": 3,
   "metadata": {},
   "outputs": [
    {
     "name": "stdout",
     "output_type": "stream",
     "text": [
      "{'name': 'Masud Rana', 'age': 23, 'gender': 'male'}\n",
      "{'name': 'Masud Rana', 'age': 23, 'gender': 'male', 'weight': 55}\n",
      "{'name': 'Masud Rana', 'age': 2, 'marks': {'DSA': 'A+', 'DB': 'A+', 'Artificial Intelligence': 'A+'}}\n",
      "{'name': 'Masud Rana', 'age': 2, 'marks': {'DSA': 'A+', 'DB': 'A+', 'Artificial Intelligence': 'A+', 'OS': 'A'}}\n",
      "{'name': 'Masud Rana Sheikh', 'age': 2, 'marks': {'DSA': 'A+', 'DB': 'A+', 'Artificial Intelligence': 'A+', 'OS': 'A'}}\n",
      "{'age': 23, 'gender': 'male'}\n",
      "{'age': 23}\n",
      "{'age': 23}\n",
      "{}\n",
      "{}\n"
     ]
    }
   ],
   "source": [
    "# adding key-value\n",
    "d = {'name': 'Masud Rana', 'age': 23, 'gender': 'male'}\n",
    "print(d) # {'name': 'Masud Rana', 'age': 23, 'gender': 'male\n",
    "\n",
    "d['weight'] = 55\n",
    "print(d) # {'name': 'Masud Rana', 'age': 23, 'gender': 'male', 'weight': 55}\n",
    "\n",
    "# adding key-value in nested dictionary\n",
    "person = {\n",
    "    'name': 'Masud Rana',\n",
    "    'age': 2,\n",
    "    'marks': {\n",
    "        'DSA': 'A+',\n",
    "        'DB': 'A+',\n",
    "        'Artificial Intelligence': 'A+',\n",
    "    }\n",
    "}\n",
    "print(person) # {'name': 'Masud Rana', 'age': 2, 'marks': {'DSA': 'A+', 'DB': 'A+', 'Artificial Intelligence': 'A+'}}\n",
    "\n",
    "person['marks']['OS'] = 'A'\n",
    "print(person) # {'name': 'Masud Rana', 'age': 2, 'marks': {'DSA': 'A+', 'DB': 'A+', 'Artificial Intelligence': 'A+', 'OS': 'A'}}\n",
    "\n",
    "\n",
    "# update value of a key. key update is not possible\n",
    "person['name'] = 'Masud Rana Sheikh'\n",
    "print(person) # {'name': 'Masud Rana Sheikh', 'age': 2, 'marks': {'DSA': 'A+', 'DB': 'A+', 'Artificial Intelligence': 'A+', 'OS': 'A'}}\n",
    "\n",
    "# pop\n",
    "d = {'name': 'Masud Rana', 'age': 23, 'gender': 'male'}\n",
    "d.pop('name')\n",
    "print(d) # {'age': 23, 'gender': 'male'}\n",
    "\n",
    "# popitem() remove last key\n",
    "d.popitem()\n",
    "print(d) #  {'age': 23}\n",
    "\n",
    "# del\n",
    "print(d) # {'age': 23}\n",
    "del d['age'] # delete age key only\n",
    "print(d) # {}\n",
    "\n",
    "# clear all key values (it will not delete dictionary variable)\n",
    "d = {'name': 'Masud Rana', 'age': 23, 'gender': 'male'}\n",
    "d.clear()\n",
    "print(d) # {}\n",
    "\n",
    "# delete whole dictionary\n",
    "del d\n",
    "# print(d) # gives error: name 'd' is not defined\n",
    "\n"
   ]
  }
 ],
 "metadata": {
  "kernelspec": {
   "display_name": "base",
   "language": "python",
   "name": "python3"
  },
  "language_info": {
   "codemirror_mode": {
    "name": "ipython",
    "version": 3
   },
   "file_extension": ".py",
   "mimetype": "text/x-python",
   "name": "python",
   "nbconvert_exporter": "python",
   "pygments_lexer": "ipython3",
   "version": "3.12.7"
  }
 },
 "nbformat": 4,
 "nbformat_minor": 2
}
