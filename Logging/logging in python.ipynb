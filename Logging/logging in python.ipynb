{
 "cells": [
  {
   "cell_type": "markdown",
   "metadata": {},
   "source": [
    "# Logging in Python\n",
    "**Note:** don't run this code in notebook. run this code in local machine\n",
    "\n",
    "\n",
    "Whenever you are building any kind of application. there we have to log some information for debugging purpose. like if application fail in some cases we have to log some information.\n",
    "\n",
    "Whenever we printing something we can see in console. but in server we can not see after hosting application in any hosting server. it is not possible to open terminal or notebook in the hosting server.\n",
    "\n",
    "that's why we have to use logging technique. we can log any kind error or anything in a file. \n",
    "\n",
    "We have to import logging from Python. it is in built module in Python\n",
    "\n",
    "In real world applications, we don't use printing. we have to log something and then we can debug our application using log file.\n"
   ]
  },
  {
   "cell_type": "code",
   "execution_count": null,
   "metadata": {},
   "outputs": [],
   "source": [
    "# logging example\n",
    "import logging\n",
    "import os # with help of this module, file create,delete,read,write we can do anything in OS\n",
    "# create a logs folder. inside this folder we will put logs information in files\n",
    "\n",
    "LOG_DIR = \"logs\"\n",
    "LOG_FILE_NAME = \"application.log\"\n",
    "\n",
    "os.makedirs(LOG_DIR, exist_ok=True)\n",
    "\n",
    "log_path = os.path.join(LOG_DIR, LOG_FILE_NAME) # os.path.join() will join smartly\n",
    "\n",
    "logging.basicConfig(\n",
    "    filename = log_path,\n",
    "    format = \"[%(asctime)s] %(name)s - %(levelname)s - %(message)s\",\n",
    "    level= logging.INFO,\n",
    ")"
   ]
  },
  {
   "cell_type": "code",
   "execution_count": null,
   "metadata": {},
   "outputs": [],
   "source": [
    "# logging something\n",
    "# instead of printing something in the console\n",
    "# we save information to a file\n",
    "logging.info(\"Hello World!\") \n",
    "\n"
   ]
  }
 ],
 "metadata": {
  "kernelspec": {
   "display_name": "base",
   "language": "python",
   "name": "python3"
  },
  "language_info": {
   "codemirror_mode": {
    "name": "ipython",
    "version": 3
   },
   "file_extension": ".py",
   "mimetype": "text/x-python",
   "name": "python",
   "nbconvert_exporter": "python",
   "pygments_lexer": "ipython3",
   "version": "3.12.7"
  }
 },
 "nbformat": 4,
 "nbformat_minor": 2
}
