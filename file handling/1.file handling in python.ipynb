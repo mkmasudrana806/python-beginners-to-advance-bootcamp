{
 "cells": [
  {
   "cell_type": "markdown",
   "metadata": {},
   "source": [
    "# File Handling in Python \n",
    "Types of dat used or I/O:\n",
    "\n",
    "* Text - '12345' as a sequence of unicode chars\n",
    "* Binary - 12345 as a sequence of bytes of it's binary equivalent\n",
    "\n",
    "Hence there are 2 file types to deal with\n",
    "\n",
    "* Text files - All program files are text files\n",
    "* Binary files - Images, music, video, exe files\n",
    "\n",
    "## How File I/O is done in most programming languages\n",
    "* Open a file\n",
    "* Read/WRite data\n",
    "* Close the file\n",
    "\n"
   ]
  },
  {
   "cell_type": "markdown",
   "metadata": {},
   "source": [
    "## writing to a file"
   ]
  },
  {
   "cell_type": "code",
   "execution_count": 21,
   "metadata": {},
   "outputs": [],
   "source": [
    "# open a file in write mode, if it is not exist, create it\n",
    "# Note: in write mode, existing content will be overwritten\n",
    "f = open('./files/sample.txt', 'w')\n",
    "f.write('Hello Masud Rana')\n",
    "f.write('\\nCongratulations you have successfully written in a file')\n",
    "f.close()\n",
    "\n",
    "# case-2: open a file and write something to it. \n",
    "# existing content will not be overritten. it will jsut appended\n",
    "# use mode as 'a'\n",
    "f = open('./files/sample.txt', 'a')\n",
    "f.write('\\n this is written using appended mode')\n",
    "f.close()"
   ]
  },
  {
   "cell_type": "code",
   "execution_count": 22,
   "metadata": {},
   "outputs": [],
   "source": [
    "# writelines\n",
    "lists = ['\\nmasud rana', '\\nshihab rana', '\\nrayhan kobir']\n",
    "ff = open('./files/sample.txt', 'a')\n",
    "ff.writelines(lists)\n",
    "ff.close()"
   ]
  },
  {
   "cell_type": "markdown",
   "metadata": {},
   "source": [
    "### reading from files"
   ]
  },
  {
   "cell_type": "code",
   "execution_count": null,
   "metadata": {},
   "outputs": [
    {
     "name": "stdout",
     "output_type": "stream",
     "text": [
      "Hello Masud Rana\n",
      "Congratulations you have successfully written in a file\n",
      " this is written using appended mode\n",
      "masud rana\n",
      "shihab rana\n",
      "rayhan kobir\n",
      "10 character from file:  \n"
     ]
    }
   ],
   "source": [
    "\"\"\"\n",
    "how open function is working?\n",
    "file is present in hard drive. whenever we use open() function, it load the file into buffer memeory means inside RAM. then it is reading. when when we close the file. it clear the buffer memory. if we don't close the file. RAM will full.\n",
    "\"\"\"\n",
    "f = open('./files/sample.txt', 'r')\n",
    "content = f.read()\n",
    "print(content)\n",
    "\n",
    "# want to read specific characters ( comment previous read() code )\n",
    "print('10 character from file: ', f.read(10) )"
   ]
  },
  {
   "cell_type": "code",
   "execution_count": null,
   "metadata": {},
   "outputs": [
    {
     "name": "stdout",
     "output_type": "stream",
     "text": [
      "Hello Masud Rana\n",
      "Congratulations you have successfully written in a file\n",
      " this is written using appended mode\n"
     ]
    }
   ],
   "source": [
    "# read line by line\n",
    "f = open('./files/sample.txt', 'r')\n",
    "line = f.readline()\n",
    "line2 = f.readline()\n",
    "line3 = f.readline()\n",
    "print(line, end='') # by default we we dont' use end='', it print big space\n",
    "print(line2, end='')\n",
    "print(line3, end='')"
   ]
  },
  {
   "cell_type": "code",
   "execution_count": 33,
   "metadata": {},
   "outputs": [
    {
     "name": "stdout",
     "output_type": "stream",
     "text": [
      "Hello Masud Rana\n",
      "Congratulations you have successfully written in a file\n",
      " this is written using appended mode\n",
      "masud rana\n",
      "shihab rana\n",
      "rayhan kobir"
     ]
    }
   ],
   "source": [
    "# read line by line all content from a file\n",
    "f = open('./files/sample.txt', 'r')\n",
    "\n",
    "while True:\n",
    "    data = f.readline()\n",
    "    \n",
    "    if data == \"\":\n",
    "        break\n",
    "    else:\n",
    "        print(data, end='')\n",
    "f.close()"
   ]
  }
 ],
 "metadata": {
  "kernelspec": {
   "display_name": "base",
   "language": "python",
   "name": "python3"
  },
  "language_info": {
   "codemirror_mode": {
    "name": "ipython",
    "version": 3
   },
   "file_extension": ".py",
   "mimetype": "text/x-python",
   "name": "python",
   "nbconvert_exporter": "python",
   "pygments_lexer": "ipython3",
   "version": "3.12.7"
  }
 },
 "nbformat": 4,
 "nbformat_minor": 2
}
