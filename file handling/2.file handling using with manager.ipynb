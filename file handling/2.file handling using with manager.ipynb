{
 "cells": [
  {
   "cell_type": "markdown",
   "metadata": {},
   "source": [
    "In generally we need to close the file after opening the file. because when we open a file, it create a buffer memory into RAM, and it takes lot's of spaces. after working a file, if we dont't close it, memory will full. but using `with` to open a file, it do the closing a file automatically. \n",
    "\n",
    "### Using Context Manager (with)\n",
    "* It's a good idea to close a file after usage as it will froe up the rescourses\n",
    "* if we don't close it, garbage collector would close it\n",
    "* with keyword closes the file as soon as the usage is over\n"
   ]
  },
  {
   "cell_type": "code",
   "execution_count": null,
   "metadata": {},
   "outputs": [],
   "source": [
    "# open a file using 'with' context manager\n",
    "with open('./files/sample2.txt', 'w') as f:\n",
    "    f.write(\"Very interesting concept to work with file\")"
   ]
  },
  {
   "cell_type": "code",
   "execution_count": 2,
   "metadata": {},
   "outputs": [
    {
     "ename": "ValueError",
     "evalue": "I/O operation on closed file.",
     "output_type": "error",
     "traceback": [
      "\u001b[1;31m---------------------------------------------------------------------------\u001b[0m",
      "\u001b[1;31mValueError\u001b[0m                                Traceback (most recent call last)",
      "Cell \u001b[1;32mIn[2], line 2\u001b[0m\n\u001b[0;32m      1\u001b[0m \u001b[38;5;66;03m# we cannot write that file as context manager already close the file\u001b[39;00m\n\u001b[1;32m----> 2\u001b[0m f\u001b[38;5;241m.\u001b[39mwrite(\u001b[38;5;124m\"\u001b[39m\u001b[38;5;124mthis text will gives error \u001b[39m\u001b[38;5;124m\"\u001b[39m)\n",
      "\u001b[1;31mValueError\u001b[0m: I/O operation on closed file."
     ]
    }
   ],
   "source": [
    "# we cannot write that file as context manager already close the file\n",
    "f.write(\"this text will gives error \")"
   ]
  }
 ],
 "metadata": {
  "kernelspec": {
   "display_name": "base",
   "language": "python",
   "name": "python3"
  },
  "language_info": {
   "codemirror_mode": {
    "name": "ipython",
    "version": 3
   },
   "file_extension": ".py",
   "mimetype": "text/x-python",
   "name": "python",
   "nbconvert_exporter": "python",
   "pygments_lexer": "ipython3",
   "version": "3.12.7"
  }
 },
 "nbformat": 4,
 "nbformat_minor": 2
}
