{
 "cells": [
  {
   "cell_type": "markdown",
   "metadata": {},
   "source": [
    "# Pickle in Python\n",
    "Whenever we need to store our ML, DL model into file, we need to convert this model or function or any python object into pkl format. later we need to load that pkl format into python type.\n",
    "\n",
    "Pickling is the process whereby a Python object hierarchy is converted into a byte stream, and `unpickling` is the inverse operation, whereby a byte stream ( from a binary file or bytes-like object ) is ocnverted back into an object hierarchy"
   ]
  },
  {
   "cell_type": "code",
   "execution_count": 1,
   "metadata": {},
   "outputs": [],
   "source": [
    "# pkl format\n",
    "import pickle\n",
    "\n",
    "def my_greets():\n",
    "  return \"Hello there, you are so much beautifull that you are learnig python deeply\"\n",
    "\n",
    "# store function into a variable\n",
    "d = my_greets()\n",
    "\n",
    "# Note: as we want to store object into binary format, so open file as 'wb' mode\n",
    "# pickling into file\n",
    "with open(\"./files/test.pkl\", \"wb\") as f:\n",
    "  pickle.dump(d, f)"
   ]
  },
  {
   "cell_type": "code",
   "execution_count": 2,
   "metadata": {},
   "outputs": [
    {
     "name": "stdout",
     "output_type": "stream",
     "text": [
      "Hello there, you are so much beautifull that you are learnig python deeply\n"
     ]
    }
   ],
   "source": [
    "# pickle load\n",
    "import pickle\n",
    "# Note: as we want to store object into binary format, so open file as 'rb' mode\n",
    "with open(\"./files/test.pkl\", \"rb\") as f:\n",
    "  p = pickle.load(f)\n",
    "  print(p)"
   ]
  }
 ],
 "metadata": {
  "kernelspec": {
   "display_name": "base",
   "language": "python",
   "name": "python3"
  },
  "language_info": {
   "codemirror_mode": {
    "name": "ipython",
    "version": 3
   },
   "file_extension": ".py",
   "mimetype": "text/x-python",
   "name": "python",
   "nbconvert_exporter": "python",
   "pygments_lexer": "ipython3",
   "version": "3.12.7"
  }
 },
 "nbformat": 4,
 "nbformat_minor": 2
}
