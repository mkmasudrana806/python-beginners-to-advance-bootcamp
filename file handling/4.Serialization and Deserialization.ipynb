{
 "cells": [
  {
   "cell_type": "markdown",
   "metadata": {},
   "source": [
    "# Serialization and Deserialization\n",
    "* Serialization - process of converting python data types to JSON format\n",
    "* Deserialization - process of converting JSON  to python data types\n",
    "\n",
    "# What is JSON\n",
    "The full form or JSON is JavaScript Object Notation\n",
    "\n",
    "**Note:** while working with file system, convert data types into JSON your data is not string types"
   ]
  },
  {
   "cell_type": "code",
   "execution_count": 2,
   "metadata": {},
   "outputs": [
    {
     "name": "stdout",
     "output_type": "stream",
     "text": [
      "{'name': 'Masud Rana', 'age': 23}\n"
     ]
    }
   ],
   "source": [
    "# Serialization and Deserialization\n",
    "import json\n",
    "\n",
    "# list\n",
    "L = [1, 2, 3, 4, 5]\n",
    "\n",
    "with open(\"./files/test.json\", \"w\") as f:\n",
    "  json.dump(L, f)\n",
    "\n",
    "# dict\n",
    "person = {\n",
    " 'name': 'Masud Rana',\n",
    " 'age': 23\n",
    "}\n",
    "with open(\"./files/test.json\", \"w\") as f:\n",
    "  json.dump(person, f, indent=4)\n",
    "\n",
    "\n",
    "# deserialization\n",
    "with open(\"./files/test.json\", \"r\") as f:\n",
    "  data = json.load(f)\n",
    "  print(data)\n",
    "\n",
    "# in the next tutorial we will see the the pickle in python.\n",
    "# it is very important topic to store python object, like functions\n",
    "# it will help you a lot in ML, DL. because we need to store model in binary format\n",
    "# later on you have load the model. model need to save in a file.\n",
    "# to save this model, we need to pickle\n"
   ]
  }
 ],
 "metadata": {
  "kernelspec": {
   "display_name": "base",
   "language": "python",
   "name": "python3"
  },
  "language_info": {
   "codemirror_mode": {
    "name": "ipython",
    "version": 3
   },
   "file_extension": ".py",
   "mimetype": "text/x-python",
   "name": "python",
   "nbconvert_exporter": "python",
   "pygments_lexer": "ipython3",
   "version": "3.12.7"
  }
 },
 "nbformat": 4,
 "nbformat_minor": 2
}
