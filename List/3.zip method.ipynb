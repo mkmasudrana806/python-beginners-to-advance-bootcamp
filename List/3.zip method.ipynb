{
 "cells": [
  {
   "cell_type": "code",
   "execution_count": 18,
   "metadata": {},
   "outputs": [
    {
     "name": "stdout",
     "output_type": "stream",
     "text": [
      "[(1, 15), (2, 3), (3, 7), (4, 5), (5, 8)]\n",
      "[-14, -1, -4, -1, -3]\n",
      "[(1, 'masud'), (2, 'rana'), (3, 'sheikh'), (4, 'nondini'), (5, 'shihab')]\n",
      "[(1, 10, 4), (2, 11, 5), (3, 12, 6)]\n"
     ]
    }
   ],
   "source": [
    "# make two list pair\n",
    "L1 = [1, 2, 3, 4, 5]\n",
    "L2 = [15, 3, 7, 5, 8]\n",
    "print(list(zip(L1, L2))) # [(1, 5), (2, 6), (3, 7), (4, 8), (5, 9)]\n",
    "\n",
    "# using list comprehension subtruction of two lists\n",
    "# Note: zip gives iterable object. that's why below i am not using conversion\n",
    "result = [i - j for i, j in  zip(L1, L2)]\n",
    "print(result)\n",
    "\n",
    "# roll number and names zip\n",
    "rolls = [1, 2, 3, 4, 5]\n",
    "names = ['masud', 'rana', 'sheikh', 'nondini', 'shihab']\n",
    "print(list(zip(rolls, names)))\n",
    "\n",
    "# different size list zipped\n",
    "# Note: different length list make the new zip with the lowest length size list\n",
    "L1 = [1, 2, 3, 4, 5]\n",
    "L2 = [10, 11, 12]\n",
    "L3 = [4, 5, 6, 7, 29, 9]\n",
    "\n",
    "print(list(zip(L1, L2, L3)))"
   ]
  }
 ],
 "metadata": {
  "kernelspec": {
   "display_name": "base",
   "language": "python",
   "name": "python3"
  },
  "language_info": {
   "codemirror_mode": {
    "name": "ipython",
    "version": 3
   },
   "file_extension": ".py",
   "mimetype": "text/x-python",
   "name": "python",
   "nbconvert_exporter": "python",
   "pygments_lexer": "ipython3",
   "version": "3.12.7"
  }
 },
 "nbformat": 4,
 "nbformat_minor": 2
}
