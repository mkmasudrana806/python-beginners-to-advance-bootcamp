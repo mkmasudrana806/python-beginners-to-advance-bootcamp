{
 "cells": [
  {
   "cell_type": "markdown",
   "metadata": {},
   "source": [
    "# List methods\n",
    "* append ( add  one item end of the list )\n",
    "* extend ( add list of item end of the list)\n",
    "* insert\n",
    "* remove\n",
    "* pop\n",
    "* del\n",
    "* slicing\n",
    "* max, min, sum\n",
    "* sorted\n",
    "* index\n",
    "* copy\n",
    "* reverse\n",
    "* sort\n",
    "* count\n",
    "* clear\n"
   ]
  },
  {
   "cell_type": "code",
   "execution_count": 9,
   "metadata": {},
   "outputs": [
    {
     "name": "stdout",
     "output_type": "stream",
     "text": [
      "[1, 2, 4, 5, 10]\n",
      "[1, 2, 4, 5, 10, ['new']]\n",
      "[100, 2, 4, 5, 10, ['new']]\n",
      "[200, 300, 4, 5, 10, ['new']]\n",
      "[200, 300, 4, 5, 10, ['new'], 2, 4, 5]\n",
      "[2, 4, 5, 'h', 'e', 'l', 'l', 'o']\n",
      "[2, 4, 100, 5, 'h', 'e', 'l', 'l', 'o']\n",
      "[4, 5, 6]\n",
      "[4, 5]\n",
      "[1, 2, 4]\n",
      "3\n",
      "4\n",
      "1\n",
      "7\n",
      "[1, 2, 4]\n",
      "[4, 2, 1]\n",
      "1\n",
      "[3, 5, 1, 2]\n",
      "[1, 2, 3, 5]\n"
     ]
    }
   ],
   "source": [
    "l = [1, 2, 4, 5]\n",
    "# ------------ append -----------\n",
    "l.append(10) # [1, 2, 4, 5, 10]\n",
    "print(l) \n",
    "\n",
    "l.append(['new'])\n",
    "print(l)\n",
    "\n",
    "# modify with index\n",
    "l[0] = 100 # [100, 2, 4, 5, 10]\n",
    "print(l) \n",
    "\n",
    "# modify with slicing\n",
    "l[0:2] = [200, 300] # [200, 300, 4, 5, 10]\n",
    "print(l)\n",
    "\n",
    "# ------------- extend -------------\n",
    "l2 = [2, 4, 5]\n",
    "l.extend(l2) # [200, 300, 4, 5, 10, ['new'], 2, 4, 5]\n",
    "print(l) # each item of the l2 will be added into l list.\n",
    "\n",
    "l2.extend(\"hello\") # 'hello' will be considered as array of character. means list of item will be added to l2 list\n",
    "print(l2) # [2, 4, 5, 'h', 'e', 'l', 'l', 'o']\n",
    "\n",
    "# --------------- insert -------------\n",
    "# insert element at any index\n",
    "l2.insert(2, 100) # insert 100 at 2 index\n",
    "print(l2) \n",
    "\n",
    "# --------- del -----------\n",
    "# delete item from list using slicing\n",
    "l = [1, 2, 4, 5, 6]\n",
    "del l[0:2] \n",
    "print(l) # [4, 5, 6]\n",
    "\n",
    "# ------------- remove ----------\n",
    "# remove item from list using item value\n",
    "l.remove(6) # it will remove vaue 5 from the list\n",
    "print(l)\n",
    "\n",
    "\n",
    "# ------------ pop --------------\n",
    "# remove item from end of the list\n",
    "l = [1, 2, 4, 9]\n",
    "l.pop()\n",
    "print(l) # [1, 2, 4]\n",
    "\n",
    "# ------- len, max, min, sum, sorted ---------------\n",
    "# len\n",
    "print(len(l))\n",
    "#max\n",
    "print(max(l))\n",
    "#min\n",
    "print(min(l))\n",
    "#sum\n",
    "print(sum(l))\n",
    "# sort ascending order\n",
    "print(sorted(l))\n",
    "# sort descending order\n",
    "print(sorted(l, reverse=True))\n",
    "\n",
    "# ------------ index -----------\n",
    "l = [1, 2,3]\n",
    "print(l.index(2)) # 1\n",
    "\n",
    "# ------------ reverse, sort ----------\n",
    "l = [2, 1, 5, 3]\n",
    "l.reverse()\n",
    "print(l)\n",
    "\n",
    "l.sort()\n",
    "print(l)\n",
    "\n"
   ]
  },
  {
   "cell_type": "code",
   "execution_count": 10,
   "metadata": {},
   "outputs": [
    {
     "name": "stdout",
     "output_type": "stream",
     "text": [
      "[1, 2, 3, 4, 5]\n",
      "[1, 2, 3, 4, 5, 100]\n",
      "[1, 2, 3, 4, 5]\n",
      "[]\n"
     ]
    }
   ],
   "source": [
    "# -----------  copy  -----------\n",
    "l = [1, 2, 3, 4, 5]\n",
    "l2 = l.copy()\n",
    "\n",
    "print(l2)\n",
    "\n",
    "l.append(100)\n",
    "\n",
    "print(l) # [1, 2, 3, 4, 5, 100]\n",
    "print(l2) # [1, 2, 3, 4, 5]\n",
    "\n",
    "# -----------  clear  -----------\n",
    "l = [1, 2, 3, 4, 5]\n",
    "l.clear()\n",
    "\n",
    "print(l) # empty list []. it clear all the list item\n"
   ]
  },
  {
   "cell_type": "markdown",
   "metadata": {},
   "source": [
    "# list operations\n",
    "* arithmetic\n",
    "* membership\n",
    "* loops\n"
   ]
  },
  {
   "cell_type": "code",
   "execution_count": 11,
   "metadata": {},
   "outputs": [
    {
     "name": "stdout",
     "output_type": "stream",
     "text": [
      "[1, 2, 4, 5, 2, 4, 5, 10]\n",
      "yes 1 found\n",
      "no 100 not found\n",
      "1\n",
      "2\n",
      "44\n",
      "9\n"
     ]
    }
   ],
   "source": [
    "# ----------- arithmetic -----------\n",
    "# concatenation\n",
    "l = [1, 2, 4, 5]\n",
    "l2 = [2, 4, 5, 10]\n",
    "print(l + l2) # [1, 2, 4, 5, 2, 4, 5, 10]\n",
    "\n",
    "# multiplication\n",
    "l * 2 # [1, 2, 4, 5, 1, 2, 4, 5]. copy same items two times\n",
    "\n",
    "# membership\n",
    "l = [1,2 ,44, 9]\n",
    "if 1 in l:\n",
    "  print('yes 1 found')\n",
    "else:\n",
    "  print('no 1 not found')\n",
    "\n",
    "if 100 not in l:\n",
    "  print('no 100 not found')\n",
    "else:\n",
    "  print('yes 100 found ')\n",
    "\n",
    "# loops\n",
    "for i in l:\n",
    "  print(i)"
   ]
  },
  {
   "cell_type": "markdown",
   "metadata": {},
   "source": [
    "### List comprehensions\n",
    "list comprehension provide a concise way to creating a list\n",
    "\n",
    "syntax: newlist = [expression for item in iterable if condition == True]\n",
    "\n",
    "Advantages of List comprehension\n",
    "* More time-efficient and space-efficient than loops\n",
    "* Require fewer lines of code\n",
    "* Transforms iteraive statement into a formula\n"
   ]
  },
  {
   "cell_type": "code",
   "execution_count": 12,
   "metadata": {},
   "outputs": [
    {
     "name": "stdout",
     "output_type": "stream",
     "text": [
      "[1, 2, 3, 4, 5, 6, 7, 8, 9, 10]\n",
      "[1, 2, 3, 4, 5, 6, 7, 8, 9, 10]\n",
      "[-6, -9, -12]\n",
      "[-6, -9, -12]\n",
      "[5, 10, 15, 20, 25, 30, 35, 40, 45, 50]\n",
      "['python', 'php']\n"
     ]
    }
   ],
   "source": [
    "# ------------- list comprehension --------------------\n",
    "# add 1 to 10 into a list\n",
    "# using loop\n",
    "L = []\n",
    "for i in range(1, 11):\n",
    "    L.append(i)\n",
    "print(L)\n",
    "\n",
    "# using list comprehension\n",
    "L = [i for i in range(1, 11)]\n",
    "print(L)\n",
    "\n",
    "#list comprehension using conditional statement\n",
    "\n",
    "# scalar multiplication of vector using loop\n",
    "V = [2, 3, 4]\n",
    "s = -3\n",
    "\n",
    "L = []\n",
    "for i in V:\n",
    "    result = i * s\n",
    "    L.append(result)\n",
    "    \n",
    "print(L)\n",
    "\n",
    "# scalar multiplication of vector using list comprehension\n",
    "L = [i * s for i in V]\n",
    "print(L)\n",
    "\n",
    "# print all the number 1 to 50 if it divisible by 5. using list comprehension\n",
    "L = [i for i in range(1, 51) if i % 5 == 0]\n",
    "print(L)\n",
    "\n",
    "# print languages start with p.\n",
    "languages = [\"java\", \"python\", \"php\", \"javascript\"]\n",
    "L = [lang for lang in languages if lang.startswith(\"p\")]\n",
    "print(L)"
   ]
  }
 ],
 "metadata": {
  "kernelspec": {
   "display_name": "base",
   "language": "python",
   "name": "python3"
  },
  "language_info": {
   "codemirror_mode": {
    "name": "ipython",
    "version": 3
   },
   "file_extension": ".py",
   "mimetype": "text/x-python",
   "name": "python",
   "nbconvert_exporter": "python",
   "pygments_lexer": "ipython3",
   "version": "3.12.7"
  }
 },
 "nbformat": 4,
 "nbformat_minor": 2
}
