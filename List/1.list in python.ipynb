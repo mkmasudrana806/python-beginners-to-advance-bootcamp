{
 "cells": [
  {
   "cell_type": "markdown",
   "metadata": {},
   "source": [
    "# List\n",
    "* what are Lists?\n",
    "* List Vs Arrays\n",
    "* Characteristics of a List\n",
    "* How to create a list\n",
    "* Access ites from a list\n",
    "* Editing items in a list\n",
    "* deleting items from a list\n",
    "* Operations on lists\n",
    "* List comprehension\n",
    "\n",
    "### Wha are list\n",
    "---\n",
    "list is a data type where you can store multiple items under  1 name. More technically, lists act like dynamic arrays which means you can add more items on the fly.\n",
    "\n",
    "list = [ 20, 'masud', 3.69, [20, 30], True ]\n",
    " \n",
    "\n",
    "* list maintain index. it is a sequence data type. it is also data structure in python. \n",
    "\n",
    "* You put any type of data inside list as item. even list itself can be an item of a list\n",
    "\n",
    "\n",
    "### Array Vs List\n",
    "---\n",
    "\n",
    "**Array**\n",
    "* **Fixed size**. example: int arr[2] = [1, 2]. we can not store more data into this array. it will give error. \n",
    "* **Homogenous type**. homogenous means only one type of data we can store in an array. example: int arr[5], here we can store only integer data.\n",
    "* **Speed of execution fast**\n",
    "* **Less memory is usages**\n",
    "\n",
    "**List**\n",
    "* **Dynamic size**. example: list = [1, 2,3, 5]. we can store more data into it. no need to mention size of the list\n",
    "* **Hetarogenous data**. we can store any type of data inside a list. example: list=[ 1, 2.5, True, {\"name\":\"masud\", \"age\":23}, [2, 3] ]\n",
    "* **Speed is less than array**\n",
    "* **More memory it requires than array**\n",
    "\n",
    "**Why array fast and takes less memory than list?**\n",
    "let take an array int arr[3] = [2, 5, 9]. in memory, it take a continous memory location like address are 1000, 1001, 1002, 1003. that's why it is faster access rather than list. because of continous memory allocations. \n",
    "\n",
    "**Why list slow and require more memory than array?**\n",
    "take a list, list=[2, 5, 9]. in memory, it create a reference array or pointer array like 1000(address: 2000), 1002(address:2001), 3005(address:2002). original element mainly stored in the some random memory location, those are 1001, 1002, 3005. the reference array are stored this memory location. that's why list requires more memory size. and it is slower than array. it fast go to the reference array, then it takes memory location, then it peek the conrresponding list element."
   ]
  },
  {
   "cell_type": "code",
   "execution_count": 5,
   "metadata": {},
   "outputs": [
    {
     "name": "stdout",
     "output_type": "stream",
     "text": [
      "2950970474688\n",
      "140737050061240\n",
      "140737050061272\n",
      "140737050061496\n",
      "\n",
      "below print each value's address:\n",
      "140737050061240\n",
      "140737050061272\n",
      "140737050061496\n",
      "\n",
      "\n"
     ]
    }
   ],
   "source": [
    "# List memory address explain and why list can store any type of data\n",
    "L = [1, 2, 9]\n",
    "\n",
    "print(id(L)) # this list's memory block address\n",
    "print(id(L[0])) # reference address of the value 1\n",
    "print(id(L[1])) # reference address of the value 2\n",
    "print(id(L[2])) # reference address of the value 9\n",
    "\n",
    "# Note: list can store any type of data as an item. because reference array mainly store the address of the value.\n",
    "# all address are integer number. that's why it can store any type of data. becasue list maintain reference array mainly\n",
    "print(\"\\nbelow print each value's address:\")\n",
    "print(id(1))\n",
    "print(id(2))\n",
    "print(id(9))\n",
    "\n",
    "# why List takes more memory and exexution slow than array?\n",
    "\"\"\"\n",
    "let list=[1, 2, 3]\n",
    "want to add new element 10. it will make another list reference array of the current list size. means it makes double size\n",
    "due to double size, it takes more memory and execution slow because each time it requires to copy the original list\n",
    "\"\"\"\n",
    "print(\"\\n\")"
   ]
  },
  {
   "cell_type": "markdown",
   "metadata": {},
   "source": [
    "### Create list in python"
   ]
  },
  {
   "cell_type": "code",
   "execution_count": 6,
   "metadata": {},
   "outputs": [
    {
     "name": "stdout",
     "output_type": "stream",
     "text": [
      "[]\n",
      "[1, 2, 3]\n",
      "[[1, 2], [2, 3]]\n",
      "[[[1, 2], [3, 4]], [[5, 6], [7, 8]]]\n",
      "[[1, 2], 'hello', 2, 3.5, True, {'name': 'masud', 'age': 23}]\n",
      "['masud', 'rana']\n"
     ]
    }
   ],
   "source": [
    "# creating a list\n",
    "print([])\n",
    "\n",
    "# 1D\n",
    "print([1, 2, 3])\n",
    "\n",
    "# 2D\n",
    "print([[1, 2], [2, 3]])\n",
    "\n",
    "# 3D\n",
    "print([[[1, 2], [3, 4]], [[5, 6], [7, 8]]])\n",
    "\n",
    "# Heterogeneous\n",
    "print([[1, 2], 'hello', 2, 3.5, True, {\"name\":\"masud\", \"age\":23}])\n",
    "\n",
    "# using constructor method\n",
    "l = list(['masud', 'rana'])\n",
    "print(l)"
   ]
  },
  {
   "cell_type": "markdown",
   "metadata": {},
   "source": [
    "# Accessign items from a list\n",
    "* indexing\n",
    "* slicing\n",
    "Note: list, tuple, dict, set etc everywhere we can apply same operation like indexing, slicing"
   ]
  },
  {
   "cell_type": "code",
   "execution_count": 7,
   "metadata": {},
   "outputs": [
    {
     "name": "stdout",
     "output_type": "stream",
     "text": [
      "3\n",
      "2\n",
      "5\n",
      "5\n",
      "3\n",
      "2\n",
      "7\n",
      "[1, 2]\n",
      "original list: [1, 2, 3, 4, 5]\n",
      "[5, 4, 3, 2, 1]\n",
      "[5, 3, 1]\n"
     ]
    }
   ],
   "source": [
    "#  --------------- indexing ---------------\n",
    "l = [1, 2, 3, 4, 5]\n",
    "\n",
    "# positive indexing\n",
    "print(l[2]) # 3\n",
    "\n",
    "# negative indexing\n",
    "print(l[-4]) # 2. start from end of the list\n",
    "\n",
    "# 2D list accessing\n",
    "l2 = [1, 2, [3, 5]] # want to access 5\n",
    "print(l2[2][1]) # 5. here 2 position we found a list. then 5 at 1 index of that list\n",
    "\n",
    "# negative indexing in 2D list. want to access 5 from above example\n",
    "print(l2[-1][1]) # 5. because negative index start from end. \n",
    "\n",
    "print(len(l2)) # 3. because 3 element\n",
    "\n",
    "l3 = [[[1, 2], [2, 3]], [[5, 6], [7, 8]]]\n",
    "print(len(l3)) # 2\n",
    "\n",
    "# want to access 7\n",
    "print(l3[1][1][0])\n",
    "\n",
    "\n",
    "# --------------- slicing -------------------. list[start:end:step]\n",
    "l = [1, 2, 3, 4, 5]\n",
    "print(l[0:2]) # 0 to 2 index. 3 excluded\n",
    "\n",
    "l[2:] # 2 to entire list\n",
    "\n",
    "print(f\"original list: {l}\")\n",
    "print(l[::-1]) # reverse list\n",
    "\n",
    "print(l[::-2] ) # reverse but skip each time 1 index\n",
    "\n"
   ]
  }
 ],
 "metadata": {
  "kernelspec": {
   "display_name": "base",
   "language": "python",
   "name": "python3"
  },
  "language_info": {
   "codemirror_mode": {
    "name": "ipython",
    "version": 3
   },
   "file_extension": ".py",
   "mimetype": "text/x-python",
   "name": "python",
   "nbconvert_exporter": "python",
   "pygments_lexer": "ipython3",
   "version": "3.12.7"
  }
 },
 "nbformat": 4,
 "nbformat_minor": 2
}
