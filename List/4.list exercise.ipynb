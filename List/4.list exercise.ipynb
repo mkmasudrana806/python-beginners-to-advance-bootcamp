{
 "cells": [
  {
   "cell_type": "markdown",
   "metadata": {},
   "source": [
    "# List exercise "
   ]
  },
  {
   "cell_type": "code",
   "execution_count": 12,
   "metadata": {},
   "outputs": [
    {
     "name": "stdout",
     "output_type": "stream",
     "text": [
      "audi = 10\n",
      "BMW = 20\n",
      "TATA = 30\n",
      "Volvo = 5\n",
      "['audi = 10', 'BMW = 20', 'TATA = 30', 'Volvo = 5']\n",
      "[20, 18, 14, 8, 21]\n",
      "[34, 67, 89]\n"
     ]
    }
   ],
   "source": [
    "# 1. custom response using zip. print like car = no of car\n",
    "cars_name = ['audi', 'BMW', 'TATA', 'Volvo']\n",
    "no_of_cars =[10, 20, 30, 5]\n",
    "\n",
    "for i,j in zip(cars_name, no_of_cars):\n",
    "    print(f\"{i} = {j}\")\n",
    "    \n",
    "# using list comprehension\n",
    "LC = [f\"{i} = {j}\" for i, j in zip(cars_name, no_of_cars)]\n",
    "print(LC)\n",
    "\n",
    "# 2. you are given a list of integers. you are asked to make a list by running through elements of the list by adding all elements geater and itselft.\n",
    "L = [2, 4, 6, 8, 1]\n",
    "result = []\n",
    "\n",
    "for i in L:\n",
    "    sum = 0\n",
    "    for j in L:\n",
    "        if j>=i:\n",
    "            sum+=j\n",
    "    result.append(sum)\n",
    "\n",
    "print(result)\n",
    "\n",
    "# 3. Find list of common unique items from two list and show in increasing order\n",
    "num1 = [23, 45, 67, 78, 89, 34, 67]\n",
    "num2 = [34, 89, 55, 56, 39, 67, 67]\n",
    "\n",
    "common = []\n",
    "for i in num1:\n",
    "    if i in num2:\n",
    "        if i not in common:\n",
    "            common.append(i)\n",
    "            \n",
    "\n",
    "common.sort()\n",
    "print(common)"
   ]
  }
 ],
 "metadata": {
  "kernelspec": {
   "display_name": "base",
   "language": "python",
   "name": "python3"
  },
  "language_info": {
   "codemirror_mode": {
    "name": "ipython",
    "version": 3
   },
   "file_extension": ".py",
   "mimetype": "text/x-python",
   "name": "python",
   "nbconvert_exporter": "python",
   "pygments_lexer": "ipython3",
   "version": "3.12.7"
  }
 },
 "nbformat": 4,
 "nbformat_minor": 2
}
